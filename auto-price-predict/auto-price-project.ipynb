{
 "cells": [
  {
   "cell_type": "markdown",
   "metadata": {},
   "source": [
    "Сервис по продаже автомобилей с пробегом «Не бит, не крашен» разрабатывает приложение для привлечения новых клиентов. В нём можно быстро узнать рыночную стоимость своего автомобиля. В вашем распоряжении исторические данные: технические характеристики, комплектации и цены автомобилей. Вам нужно построить модель для определения стоимости. \n",
    "\n",
    "Заказчику важны:\n",
    "\n",
    "- качество предсказания;\n",
    "- скорость предсказания;\n",
    "- время обучения."
   ]
  },
  {
   "cell_type": "markdown",
   "metadata": {},
   "source": [
    "# 1. Подготовка данных"
   ]
  },
  {
   "cell_type": "markdown",
   "metadata": {},
   "source": [
    "## 1.1 Изучение данных "
   ]
  },
  {
   "cell_type": "code",
   "execution_count": 18,
   "metadata": {},
   "outputs": [
    {
     "data": {
      "text/html": [
       "<div>\n",
       "<style scoped>\n",
       "    .dataframe tbody tr th:only-of-type {\n",
       "        vertical-align: middle;\n",
       "    }\n",
       "\n",
       "    .dataframe tbody tr th {\n",
       "        vertical-align: top;\n",
       "    }\n",
       "\n",
       "    .dataframe thead th {\n",
       "        text-align: right;\n",
       "    }\n",
       "</style>\n",
       "<table border=\"1\" class=\"dataframe\">\n",
       "  <thead>\n",
       "    <tr style=\"text-align: right;\">\n",
       "      <th></th>\n",
       "      <th>DateCrawled</th>\n",
       "      <th>Price</th>\n",
       "      <th>VehicleType</th>\n",
       "      <th>RegistrationYear</th>\n",
       "      <th>Gearbox</th>\n",
       "      <th>Power</th>\n",
       "      <th>Model</th>\n",
       "      <th>Kilometer</th>\n",
       "      <th>RegistrationMonth</th>\n",
       "      <th>FuelType</th>\n",
       "      <th>Brand</th>\n",
       "      <th>NotRepaired</th>\n",
       "      <th>DateCreated</th>\n",
       "      <th>NumberOfPictures</th>\n",
       "      <th>PostalCode</th>\n",
       "      <th>LastSeen</th>\n",
       "    </tr>\n",
       "  </thead>\n",
       "  <tbody>\n",
       "    <tr>\n",
       "      <th>0</th>\n",
       "      <td>2016-03-24 11:52:17</td>\n",
       "      <td>480</td>\n",
       "      <td>NaN</td>\n",
       "      <td>1993</td>\n",
       "      <td>manual</td>\n",
       "      <td>0</td>\n",
       "      <td>golf</td>\n",
       "      <td>150000</td>\n",
       "      <td>0</td>\n",
       "      <td>petrol</td>\n",
       "      <td>volkswagen</td>\n",
       "      <td>NaN</td>\n",
       "      <td>2016-03-24 00:00:00</td>\n",
       "      <td>0</td>\n",
       "      <td>70435</td>\n",
       "      <td>2016-04-07 03:16:57</td>\n",
       "    </tr>\n",
       "    <tr>\n",
       "      <th>1</th>\n",
       "      <td>2016-03-24 10:58:45</td>\n",
       "      <td>18300</td>\n",
       "      <td>coupe</td>\n",
       "      <td>2011</td>\n",
       "      <td>manual</td>\n",
       "      <td>190</td>\n",
       "      <td>NaN</td>\n",
       "      <td>125000</td>\n",
       "      <td>5</td>\n",
       "      <td>gasoline</td>\n",
       "      <td>audi</td>\n",
       "      <td>yes</td>\n",
       "      <td>2016-03-24 00:00:00</td>\n",
       "      <td>0</td>\n",
       "      <td>66954</td>\n",
       "      <td>2016-04-07 01:46:50</td>\n",
       "    </tr>\n",
       "    <tr>\n",
       "      <th>2</th>\n",
       "      <td>2016-03-14 12:52:21</td>\n",
       "      <td>9800</td>\n",
       "      <td>suv</td>\n",
       "      <td>2004</td>\n",
       "      <td>auto</td>\n",
       "      <td>163</td>\n",
       "      <td>grand</td>\n",
       "      <td>125000</td>\n",
       "      <td>8</td>\n",
       "      <td>gasoline</td>\n",
       "      <td>jeep</td>\n",
       "      <td>NaN</td>\n",
       "      <td>2016-03-14 00:00:00</td>\n",
       "      <td>0</td>\n",
       "      <td>90480</td>\n",
       "      <td>2016-04-05 12:47:46</td>\n",
       "    </tr>\n",
       "    <tr>\n",
       "      <th>3</th>\n",
       "      <td>2016-03-17 16:54:04</td>\n",
       "      <td>1500</td>\n",
       "      <td>small</td>\n",
       "      <td>2001</td>\n",
       "      <td>manual</td>\n",
       "      <td>75</td>\n",
       "      <td>golf</td>\n",
       "      <td>150000</td>\n",
       "      <td>6</td>\n",
       "      <td>petrol</td>\n",
       "      <td>volkswagen</td>\n",
       "      <td>no</td>\n",
       "      <td>2016-03-17 00:00:00</td>\n",
       "      <td>0</td>\n",
       "      <td>91074</td>\n",
       "      <td>2016-03-17 17:40:17</td>\n",
       "    </tr>\n",
       "    <tr>\n",
       "      <th>4</th>\n",
       "      <td>2016-03-31 17:25:20</td>\n",
       "      <td>3600</td>\n",
       "      <td>small</td>\n",
       "      <td>2008</td>\n",
       "      <td>manual</td>\n",
       "      <td>69</td>\n",
       "      <td>fabia</td>\n",
       "      <td>90000</td>\n",
       "      <td>7</td>\n",
       "      <td>gasoline</td>\n",
       "      <td>skoda</td>\n",
       "      <td>no</td>\n",
       "      <td>2016-03-31 00:00:00</td>\n",
       "      <td>0</td>\n",
       "      <td>60437</td>\n",
       "      <td>2016-04-06 10:17:21</td>\n",
       "    </tr>\n",
       "  </tbody>\n",
       "</table>\n",
       "</div>"
      ],
      "text/plain": [
       "           DateCrawled  Price VehicleType  RegistrationYear Gearbox  Power  \\\n",
       "0  2016-03-24 11:52:17    480         NaN              1993  manual      0   \n",
       "1  2016-03-24 10:58:45  18300       coupe              2011  manual    190   \n",
       "2  2016-03-14 12:52:21   9800         suv              2004    auto    163   \n",
       "3  2016-03-17 16:54:04   1500       small              2001  manual     75   \n",
       "4  2016-03-31 17:25:20   3600       small              2008  manual     69   \n",
       "\n",
       "   Model  Kilometer  RegistrationMonth  FuelType       Brand NotRepaired  \\\n",
       "0   golf     150000                  0    petrol  volkswagen         NaN   \n",
       "1    NaN     125000                  5  gasoline        audi         yes   \n",
       "2  grand     125000                  8  gasoline        jeep         NaN   \n",
       "3   golf     150000                  6    petrol  volkswagen          no   \n",
       "4  fabia      90000                  7  gasoline       skoda          no   \n",
       "\n",
       "           DateCreated  NumberOfPictures  PostalCode             LastSeen  \n",
       "0  2016-03-24 00:00:00                 0       70435  2016-04-07 03:16:57  \n",
       "1  2016-03-24 00:00:00                 0       66954  2016-04-07 01:46:50  \n",
       "2  2016-03-14 00:00:00                 0       90480  2016-04-05 12:47:46  \n",
       "3  2016-03-17 00:00:00                 0       91074  2016-03-17 17:40:17  \n",
       "4  2016-03-31 00:00:00                 0       60437  2016-04-06 10:17:21  "
      ]
     },
     "metadata": {},
     "output_type": "display_data"
    }
   ],
   "source": [
    "import pandas as pd\n",
    "import numpy as np\n",
    "import matplotlib.pyplot as plt\n",
    "import seaborn as sns; sns.set()\n",
    "\n",
    "from sklearn.model_selection import train_test_split\n",
    "from sklearn.preprocessing import StandardScaler\n",
    "from sklearn.model_selection import KFold, cross_val_score\n",
    "from sklearn.metrics import mean_squared_error\n",
    "from sklearn.preprocessing import OrdinalEncoder\n",
    "\n",
    "from sklearn.dummy import DummyRegressor\n",
    "from sklearn.linear_model import LinearRegression\n",
    "from sklearn.neighbors import KNeighborsRegressor\n",
    "from sklearn.tree import DecisionTreeRegressor\n",
    "\n",
    "data = pd.read_csv('datasets/autos.csv')\n",
    "\n",
    "display(data.head())"
   ]
  },
  {
   "cell_type": "markdown",
   "metadata": {},
   "source": [
    "После скачивания датасета сразу видим что в фичах много пропусков, плюс есть некоторые фичи вроде почтового индекса пользователя которые вряд ли влияют на стоимость. "
   ]
  },
  {
   "cell_type": "code",
   "execution_count": 19,
   "metadata": {},
   "outputs": [
    {
     "name": "stdout",
     "output_type": "stream",
     "text": [
      "<class 'pandas.core.frame.DataFrame'>\n",
      "RangeIndex: 354369 entries, 0 to 354368\n",
      "Data columns (total 16 columns):\n",
      " #   Column             Non-Null Count   Dtype \n",
      "---  ------             --------------   ----- \n",
      " 0   DateCrawled        354369 non-null  object\n",
      " 1   Price              354369 non-null  int64 \n",
      " 2   VehicleType        316879 non-null  object\n",
      " 3   RegistrationYear   354369 non-null  int64 \n",
      " 4   Gearbox            334536 non-null  object\n",
      " 5   Power              354369 non-null  int64 \n",
      " 6   Model              334664 non-null  object\n",
      " 7   Kilometer          354369 non-null  int64 \n",
      " 8   RegistrationMonth  354369 non-null  int64 \n",
      " 9   FuelType           321474 non-null  object\n",
      " 10  Brand              354369 non-null  object\n",
      " 11  NotRepaired        283215 non-null  object\n",
      " 12  DateCreated        354369 non-null  object\n",
      " 13  NumberOfPictures   354369 non-null  int64 \n",
      " 14  PostalCode         354369 non-null  int64 \n",
      " 15  LastSeen           354369 non-null  object\n",
      "dtypes: int64(7), object(9)\n",
      "memory usage: 43.3+ MB\n",
      "None\n"
     ]
    }
   ],
   "source": [
    "print(data.info())"
   ]
  },
  {
   "cell_type": "markdown",
   "metadata": {},
   "source": [
    "Видим что пропуски есть только в некоторых столбцах, думаю имеет смысл повнимательнее посмотреть на них чтобы решить что делать с ними\n",
    "\n",
    "Но прежде чем приступить к предобработке предлагаю закончить с первичным анализом данных"
   ]
  },
  {
   "cell_type": "code",
   "execution_count": 20,
   "metadata": {},
   "outputs": [
    {
     "data": {
      "image/png": "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\n",
      "text/plain": [
       "<Figure size 864x576 with 2 Axes>"
      ]
     },
     "metadata": {},
     "output_type": "display_data"
    }
   ],
   "source": [
    "plt.figure(figsize=(12, 8))\n",
    "sns.heatmap(data.corr(), annot=True, fmt='.1g', cmap=\"YlGnBu\")\n",
    "plt.show()"
   ]
  },
  {
   "cell_type": "markdown",
   "metadata": {},
   "source": [
    "В матрице корреляции на данном этапе отсутствуют категориальные фичи и особых инсайтов нет, кроме двух:\n",
    "\n",
    "1) Месяц регистрации коррелирует с ценой значительно больше чем год(0.03 против 0.1). Я ожидал что будет ровно наоборот, стоит исследовать повнимательнее эту ситуацию\n",
    "\n",
    "2) Нечто странное творится со столбцом с количеством фотографий, стоит проверить"
   ]
  },
  {
   "cell_type": "code",
   "execution_count": 21,
   "metadata": {},
   "outputs": [
    {
     "data": {
      "text/plain": [
       "0    354369\n",
       "Name: NumberOfPictures, dtype: int64"
      ]
     },
     "execution_count": 21,
     "metadata": {},
     "output_type": "execute_result"
    }
   ],
   "source": [
    "data['NumberOfPictures'].value_counts()"
   ]
  },
  {
   "cell_type": "markdown",
   "metadata": {},
   "source": [
    "Действительно, столбец полностью пуст - значит пользы он нам не принесёт уж точно. Заодно удалим столбцы которые скорее всего не относятся к стоимости авто и лишь собьют нас с толку: DateCreated, LastSeen, DateCrawled и PostalCode."
   ]
  },
  {
   "cell_type": "code",
   "execution_count": 22,
   "metadata": {},
   "outputs": [
    {
     "data": {
      "text/html": [
       "<div>\n",
       "<style scoped>\n",
       "    .dataframe tbody tr th:only-of-type {\n",
       "        vertical-align: middle;\n",
       "    }\n",
       "\n",
       "    .dataframe tbody tr th {\n",
       "        vertical-align: top;\n",
       "    }\n",
       "\n",
       "    .dataframe thead th {\n",
       "        text-align: right;\n",
       "    }\n",
       "</style>\n",
       "<table border=\"1\" class=\"dataframe\">\n",
       "  <thead>\n",
       "    <tr style=\"text-align: right;\">\n",
       "      <th></th>\n",
       "      <th>Price</th>\n",
       "      <th>VehicleType</th>\n",
       "      <th>RegistrationYear</th>\n",
       "      <th>Gearbox</th>\n",
       "      <th>Power</th>\n",
       "      <th>Model</th>\n",
       "      <th>Kilometer</th>\n",
       "      <th>RegistrationMonth</th>\n",
       "      <th>FuelType</th>\n",
       "      <th>Brand</th>\n",
       "      <th>NotRepaired</th>\n",
       "    </tr>\n",
       "  </thead>\n",
       "  <tbody>\n",
       "    <tr>\n",
       "      <th>0</th>\n",
       "      <td>480</td>\n",
       "      <td>NaN</td>\n",
       "      <td>1993</td>\n",
       "      <td>manual</td>\n",
       "      <td>0</td>\n",
       "      <td>golf</td>\n",
       "      <td>150000</td>\n",
       "      <td>0</td>\n",
       "      <td>petrol</td>\n",
       "      <td>volkswagen</td>\n",
       "      <td>NaN</td>\n",
       "    </tr>\n",
       "    <tr>\n",
       "      <th>1</th>\n",
       "      <td>18300</td>\n",
       "      <td>coupe</td>\n",
       "      <td>2011</td>\n",
       "      <td>manual</td>\n",
       "      <td>190</td>\n",
       "      <td>NaN</td>\n",
       "      <td>125000</td>\n",
       "      <td>5</td>\n",
       "      <td>gasoline</td>\n",
       "      <td>audi</td>\n",
       "      <td>yes</td>\n",
       "    </tr>\n",
       "    <tr>\n",
       "      <th>2</th>\n",
       "      <td>9800</td>\n",
       "      <td>suv</td>\n",
       "      <td>2004</td>\n",
       "      <td>auto</td>\n",
       "      <td>163</td>\n",
       "      <td>grand</td>\n",
       "      <td>125000</td>\n",
       "      <td>8</td>\n",
       "      <td>gasoline</td>\n",
       "      <td>jeep</td>\n",
       "      <td>NaN</td>\n",
       "    </tr>\n",
       "    <tr>\n",
       "      <th>3</th>\n",
       "      <td>1500</td>\n",
       "      <td>small</td>\n",
       "      <td>2001</td>\n",
       "      <td>manual</td>\n",
       "      <td>75</td>\n",
       "      <td>golf</td>\n",
       "      <td>150000</td>\n",
       "      <td>6</td>\n",
       "      <td>petrol</td>\n",
       "      <td>volkswagen</td>\n",
       "      <td>no</td>\n",
       "    </tr>\n",
       "    <tr>\n",
       "      <th>4</th>\n",
       "      <td>3600</td>\n",
       "      <td>small</td>\n",
       "      <td>2008</td>\n",
       "      <td>manual</td>\n",
       "      <td>69</td>\n",
       "      <td>fabia</td>\n",
       "      <td>90000</td>\n",
       "      <td>7</td>\n",
       "      <td>gasoline</td>\n",
       "      <td>skoda</td>\n",
       "      <td>no</td>\n",
       "    </tr>\n",
       "  </tbody>\n",
       "</table>\n",
       "</div>"
      ],
      "text/plain": [
       "   Price VehicleType  RegistrationYear Gearbox  Power  Model  Kilometer  \\\n",
       "0    480         NaN              1993  manual      0   golf     150000   \n",
       "1  18300       coupe              2011  manual    190    NaN     125000   \n",
       "2   9800         suv              2004    auto    163  grand     125000   \n",
       "3   1500       small              2001  manual     75   golf     150000   \n",
       "4   3600       small              2008  manual     69  fabia      90000   \n",
       "\n",
       "   RegistrationMonth  FuelType       Brand NotRepaired  \n",
       "0                  0    petrol  volkswagen         NaN  \n",
       "1                  5  gasoline        audi         yes  \n",
       "2                  8  gasoline        jeep         NaN  \n",
       "3                  6    petrol  volkswagen          no  \n",
       "4                  7  gasoline       skoda          no  "
      ]
     },
     "metadata": {},
     "output_type": "display_data"
    }
   ],
   "source": [
    "useless_features = ['NumberOfPictures', 'DateCreated', 'LastSeen', 'DateCrawled', 'PostalCode']\n",
    "\n",
    "data = data.drop(useless_features, axis=1)\n",
    "    \n",
    "display(data.head())"
   ]
  },
  {
   "cell_type": "markdown",
   "metadata": {},
   "source": [
    "Так, на мой взгляд, гораздо лучше. Теперь займёмся годами-месяцами"
   ]
  },
  {
   "cell_type": "code",
   "execution_count": 23,
   "metadata": {},
   "outputs": [
    {
     "data": {
      "text/plain": [
       "8455        1\n",
       "1200        1\n",
       "1400        1\n",
       "3500        1\n",
       "3700        1\n",
       "        ...  \n",
       "2006    19900\n",
       "2001    20124\n",
       "2005    22109\n",
       "1999    22728\n",
       "2000    24490\n",
       "Name: RegistrationYear, Length: 151, dtype: int64"
      ]
     },
     "execution_count": 23,
     "metadata": {},
     "output_type": "execute_result"
    }
   ],
   "source": [
    "data['RegistrationYear'].value_counts().sort_values()"
   ]
  },
  {
   "cell_type": "markdown",
   "metadata": {},
   "source": [
    "А вот и причина странно низкой корреляции - в столбце много выбросов, таких как годы выпуска 8455 и 1200. Думаю это отличный сигнал что стоит осмотреть все числовые фичи чтобы ничего не упустить"
   ]
  },
  {
   "cell_type": "code",
   "execution_count": 24,
   "metadata": {},
   "outputs": [
    {
     "name": "stdout",
     "output_type": "stream",
     "text": [
      "Столбец RegistrationYear\n",
      "2000    24490\n",
      "1999    22728\n",
      "2005    22109\n",
      "2001    20124\n",
      "2006    19900\n",
      "        ...  \n",
      "3700        1\n",
      "3500        1\n",
      "1400        1\n",
      "1200        1\n",
      "8455        1\n",
      "Name: RegistrationYear, Length: 151, dtype: int64\n",
      "\n",
      "Столбец Power\n",
      "0       40225\n",
      "75      24023\n",
      "60      15897\n",
      "150     14590\n",
      "101     13298\n",
      "        ...  \n",
      "2005        1\n",
      "671         1\n",
      "356         1\n",
      "612         1\n",
      "6006        1\n",
      "Name: Power, Length: 712, dtype: int64\n",
      "\n",
      "Столбец Kilometer\n",
      "150000    238209\n",
      "125000     36454\n",
      "100000     14882\n",
      "90000      11567\n",
      "80000      10047\n",
      "70000       8593\n",
      "60000       7444\n",
      "5000        6397\n",
      "50000       6232\n",
      "40000       4911\n",
      "30000       4436\n",
      "20000       3975\n",
      "10000       1222\n",
      "Name: Kilometer, dtype: int64\n",
      "\n",
      "Столбец RegistrationMonth\n",
      "0     37352\n",
      "3     34373\n",
      "6     31508\n",
      "4     29270\n",
      "5     29153\n",
      "7     27213\n",
      "10    26099\n",
      "12    24289\n",
      "11    24186\n",
      "9     23813\n",
      "1     23219\n",
      "8     22627\n",
      "2     21267\n",
      "Name: RegistrationMonth, dtype: int64\n",
      "\n"
     ]
    }
   ],
   "source": [
    "numeric_features = ['RegistrationYear', 'Power', 'Kilometer', 'RegistrationMonth']\n",
    "\n",
    "for col in numeric_features:\n",
    "    print(f'Столбец {col}')\n",
    "    print(data[col].value_counts().sort_values(ascending=False))\n",
    "    print()"
   ]
  },
  {
   "cell_type": "markdown",
   "metadata": {},
   "source": [
    "Видим что в конечном итоге выбросы есть в столбцах Power и RegistrationYear. В километрах выбросы тоже есть, но думаю там они вполне корректны"
   ]
  },
  {
   "cell_type": "code",
   "execution_count": 25,
   "metadata": {},
   "outputs": [
    {
     "name": "stdout",
     "output_type": "stream",
     "text": [
      "После обработки столбца RegistrationYear осталось 346240 значений\n",
      "После обработки столбца Power осталось 304925 значений\n"
     ]
    },
    {
     "data": {
      "text/plain": [
       "304925"
      ]
     },
     "execution_count": 25,
     "metadata": {},
     "output_type": "execute_result"
    }
   ],
   "source": [
    "bad_data = ['RegistrationYear', 'Power']\n",
    "\n",
    "for col in bad_data:\n",
    "    q1 = data[col].quantile(0.01)\n",
    "    q99 = data[col].quantile(0.99)\n",
    "    data = data[(data[col] > q1) & (data[col] < q99)]\n",
    "    print(f'После обработки столбца {col} осталось {data.shape[0]} значений')\n",
    "    \n",
    "data.shape[0]"
   ]
  },
  {
   "cell_type": "markdown",
   "metadata": {},
   "source": [
    "Мы потеряли около 50 тысяч строк... Невысокая цена ради повышения качества выборки!\n",
    "\n",
    "Перед обработкой пропусков взглянем на матрицу ещё раз"
   ]
  },
  {
   "cell_type": "code",
   "execution_count": 26,
   "metadata": {},
   "outputs": [
    {
     "data": {
      "image/png": "iVBORw0KGgoAAAANSUhEUgAAApAAAAHvCAYAAADjKe/ZAAAABHNCSVQICAgIfAhkiAAAAAlwSFlzAAALEgAACxIB0t1+/AAAADh0RVh0U29mdHdhcmUAbWF0cGxvdGxpYiB2ZXJzaW9uMy4yLjIsIGh0dHA6Ly9tYXRwbG90bGliLm9yZy+WH4yJAAAgAElEQVR4nOzdeVxU9f7H8feAIiACyiruW2gmVu5L5r4lV1FvZhbem3mzQtJKc0uvmZFmLmm30lxzSbMrapaamnXT3KqfO6m3iNwAQUFZFJj5/eFtkkAamIYZnNfz8TiPB+fMlznv0zwmP3zO+Z5jMJlMJgEAAAAWcrF3AAAAAJQtFJAAAAAoFgpIAAAAFAsFJAAAAIqFAhIAAADFQgEJAACAYqGABAAAuANcu3ZNffr00dmzZwu8dvLkSfXv3189evTQxIkTlZuba9W+KCABAADKuMOHD2vw4MGKj48v9PUxY8Zo8uTJ2rZtm0wmk9atW2fV/iggAQAAyrh169ZpypQpCgwMLPDauXPnlJ2drXvvvVeS1L9/f23dutWq/ZWz6rcBAABgM+np6UpPTy+w3dvbW97e3ub16dOn3/Y9kpKSFBAQYF4PCAhQYmKiVblKtYD0qDm4NHeHEgoc8YS9I6AYTO78HVhWJDxfzd4RYKF/nYi3dwRY6Jm7u9s7giTb1Tgzx7TVggULCmyPiorSyJEjLXoPo9Eog8FgXjeZTPnWS4J/eQAAABzU0KFDFRERUWD7rd3HPxIcHKzk5GTz+qVLlwo91V0cFJAAAABWMhhsM63k96eqS6JatWqqUKGCvv32WzVr1kwbN25Uhw4drHpPJtEAAADcgYYPH66jR49KkmbNmqWYmBj17NlTmZmZioyMtOq96UACAABYyeAgPbldu3aZf160aJH554YNG2r9+vV/2n4oIAEAAKxkq1PYjsq5jhYAAABWowMJAABgJTqQAAAAQBHoQAIAAFjJ2htzlzUUkAAAAFZzrpO6znW0AAAAsBodSAAAACsxiQYAAAAoAh1IAAAAKzlbB5ICEgAAwEqO8ijD0uJcRwsAAACr0YEEAACwkrOdwnauowUAAIDV6EACAABYiQ4kAAAAUAQ6kAAAAFZytg4kBSQAAICVDDLYO0Kpcq5yGQAAAFajAwkAAGAlZzuF7VxHCwAAAKvRgQQAALCSs3UgKSABAACs5GwFpHMdLQAAAKxGBxIAAMBqztWTc66jBQAAgNXoQAIAAFjJ2a6BpIAEAACwkrMVkM51tAAAALAaHUgAAAArGZysJ+dcRwsAAACr0YEEAACwEtdAAgAAAEWgAwkAAGAlg8Fg7wiligLSSotmP63jcQmau3CLvaPgfzrX89fYTvXl5uqiuKRrGrvluK7dyMs3ZlKXu9S7YaCuZOdKkn5MyVBU7FF7xHVqnev46aX2dW9+Vpeuacz2uIKfVYd6euiuQF3JzpEk/Xg5U89uOWGPuE5v9+6DevPNFbpxI0ehobX12mvR8vLyvO34HTu+0Zgxc/T99+tKMaVz+unQMe1ZuVl5ObnyrxWirlGPqoKnh0VjjHlG7V70kc4dPyNJqt3sbrUf2s/pCiJrcQobFgmtH6LP1kxSRO+W9o6CW1TxLK83+jTWiI+PqPN7e5VwJVPjOjUoMK5ZNR+NjD2q3ov3qffifRSPdlDFo7xm9WiopzYfU6dl+5WQlqVx7esVGNcsxEdRW46r18pD6rXyEMWjnaSmpmn8+HmaP3+8tm17VzVqBGvWrGW3HR8ff14zZiyVZCq1jM4qM+2qPp+/Sg+NHaahb78sn2B/7flgk8Vj4r48oMvnEjVk7ng9Omeczh4/ozN7/88eh4IyhAKyhEZEdteyD3fp31v22zsKbtGhjp+OXEhT/OVMSdLK786qb+PgfGPcXA26O7iSnmpdW9uebK13+4cpxNvdHnGdWodaVXT44lXFX8mSJH1w+Lz6NQrKN8bN1aDGgV4a0aKmtke20LvhjRVSqYI94jq9r7/+Xk2aNFDt2iGSpMGDe2nz5i9lMhUsELOysjVmzJsaN25Yacd0Sgn/F6egBjVVOSRQkhTWs71++OpQvs+mqDFGo0k5128oLzdXeTm5MubmytWNE5TFZZCLTRZHZVGyGzdu6J133tHYsWN17do1LViwQDdu3LB1Noc2evIyrd24194x8DtVvd11Pv26ef1C+nV5u5eXl5ureVuQVwV9E39Zs746ox7v79P359L0/sCm9ojr1EIqVdCFq9nm9QtXr8u7Qrn8n1XFCtr7yxW9secndV9xUN9fSNf7fZvYI67Tu3gxWcHB/ub14GB/XbuWqYyMrAJjJ09+W4MG9VRoaO1STOi8rl66LC+/yuZ1Lz9f3cjM1o2sbIvG3N2pldy9PLV42CS9/8RE+QQHqG4LvmcomkUF5CuvvKKsrCydOHFCrq6uSkhI0IQJE2ydDSg2F4NkKuSUWd4tf4n/kpatv637XqeSMyRJ7+3/WTUre6qGD13I0mQwGAo9uZlnvOWzSs/W3zYc0amU/31Wh35RLR8P1aBjXOqMRlOh18S5uOT/Z2TVqi0qV85VAwd2K61oTs9k+uPPpqgx+9d+Jg9vLw1f+pqGvT9N169l6ruNO22a+U5kMLjYZHFUFiU7fvy4nn/+eZUrV04eHh6aMWOG4uLibJ0NKLbzadkK8vrtFGdwpQq6kpWjrByjeVvDAC9F3FM13+8ZJOUYuVarNJ2/mq2gim7m9WAvN13JzlFW7i2flX9F9f/daW2Dgc+qtMybt1J9+0arb99offTRdiUlpZpfS0xMkY+Plzw98xfzGzbs1NGjp9W3b7T+8Y+pys6+ob59o5WYmFLa8Z2Gt38VZaSmmdevpaSpgpenyrtXsGjMf/cd1t1dWsu1fDlVqOihRp1a6pejp0v1GO4EFJCFMBgMunHjhvmvl8uXLzM7Cw7pq59SdF81H9WufHNm6JD7q2v7qaR8Y4wyaWq3UHPH8fH7qysu6ZouXr1e4P1gO1/Fp+q+qj6q7XtzpuhjTatp+5lL+cYYTdLUTg3MHcfHm4YoLjlDF6/xWZWG5557TBs3vqWNG9/SunWzdPjwD4qPPy9J+vDDz9SlS6sCv7N+/Wx98snb2rjxLS1cOEXu7m7auPEtBQX5lXZ8p1Hz3oa6cCpel8/f/H/d0W1fq27LJhaPCahXXaf3fC9JysvN048Hjqoqlx/gD1h0lWxkZKT+/ve/Kzk5WdOnT9fnn3+uqKgoW2cDii0lM0djPjmhd/qHyc3VoJ8vZ2n05mNqEuytGQ/drd6L9+lUcoambI/T4ofvk6vh5rV3IzcyC7u0pWTl6MXtJ/Vu+D0q72JQQlqWRm09qbCgSprRLVS9Vh7SqZQMTf7itJb0ayIXg0EXr11X1KfH7R3dKfn5+Som5jlFR8coJydXNWsGa8aM5yVJR4+e1qRJ87Vx41t2TumcPH0rqdvIIfr0jcXKy8mTT7C/ejz3uBLPJGjH26s1ZM64246RpA5/H6Ddi9ZpRdQ0GVxcVCMsVM36dbXzUZU9jjzhxRYMpsKm0BXizJkz2r9/v/Ly8tSqVSuFhoYWe2ceNQcX+3dQ+gJHPGHvCCgGkzuzJcuKhOer2TsCLPSvE/H2jgALPXN3d3tHkCTVvW+WTd73x+9ftMn7WsuicvmHH37Q22+/rSFDhqhdu3Z65ZVX9OOPP9o6GwAAQNlgcLHN4qAsSvbyyy8rIiJCklSvXj0988wzmjhxok2DAQAAlBVMoilEVlaWOnToYF5v166dsrIK3vsLAAAAdz6LCsgqVapozZo1ysjIUEZGhj766CP5+TGjDgAAQLp5xxpbLI7KogIyJiZGu3fvVvv27dWpUyft3r1b06dPt3U2AAAAOCCLpm+GhITovffes3UWAACAMsnZbuNTZAH51FNP6b333lPnzp0LbaPu3MmjjgAAAJxNkQXktGnTJElz587lmkcAAIDbcOQZ07ZQZAEZGBgoSXrppZf02WeflUogAACAMseBJ7zYgkXXQDZs2FCxsbEKCwuTu7u7eXtISIjNggEAAMAxWVRAHj58WEeOHNGtTz00GAxcAwkAACBZeF+bO0eRBWRiYqJmzpypihUr6r777tOLL74ob2/v0soGAAAAC23evFnvvPOOcnNzNXToUA0ZMiTf68ePH9fkyZOVk5OjqlWr6o033ihxXVdkvTxhwgQFBgbqhRdeUE5OjmJiYkq0EwAAgDuawWCbxUKJiYmaM2eOVq9erdjYWK1du1ZnzpzJN2b69OmKjo7Wpk2bVKdOHS1evLjEh/uHHchf37xdu3bq169fiXcEAABwx7LRJJr09HSlp6cX2O7t7Z2ve7h37161bt1avr6+kqQePXpo69atioqKMo8xGo3KyMiQdPMx1T4+PiXOVWQBWb58+Xw/37oOAAAA21q+fLkWLFhQYHtUVJRGjhxpXk9KSlJAQIB5PTAwUEeOHMn3O+PGjdMTTzyh1157TR4eHlq3bl2Jc1k0ieZXjvxMRgAAALux0SSaoUOHKiIiosD231+7aDQa89VpJpMp33p2drYmTpyoZcuWKSwsTEuXLtVLL72khQsXlihXkQXk6dOn1aVLF/N6YmKiunTpYg7FLGwAAADb+f2p6tsJDg7WoUOHzOvJycnm+3lL0qlTp1ShQgWFhYVJkgYNGqR58+aVOFeRBeS2bdtK/MYAAADOwmTns7Rt27bV/PnzlZqaKg8PD23fvt38REFJqlWrli5evKgff/xRdevW1c6dO9WkSZMS76/IArJatWolfmMAAACnYeer/IKCgjR69GhFRkYqJydHAwcOVFhYmIYPH67o6Gg1adJEMTExGjVqlEwmk/z8/PTaa6+VeH/FugYSAAAAjik8PFzh4eH5ti1atMj884MPPqgHH3zwT9kXBSQAAIC1XJxrorGTPXgHAAAA1qIDCQAAYC0nu9UhHUgAAAAUCx1IAAAAazlXA5ICEgAAwGpMogEAAABujw4kAACAtZhEAwAAANweHUgAAABrOVcDkgISAADAakyiAQAAAG6PDiQAAIC1nKsBSQcSAAAAxUMHEgAAwEomJ7uNDwUkAACAtZhEAwAAANweHUgAAABrOVcDsnQLyMART5Tm7lBCSe8usXcEFMO4jcPsHQEWumFMt3cEWMjf3WjvCIBDowMJAABgLSebRMM1kAAAACgWOpAAAADWcrJZ2BSQAAAA1nKu+pFT2AAAACgeOpAAAADWYhINAAAAcHt0IAEAAKzlZB1ICkgAAABrOdk5XSc7XAAAAFiLDiQAAIC1nOwUNh1IAAAAFAsdSAAAAGs5VwOSAhIAAMBaJid7lCGnsAEAAFAsdCABAACsxSQaAAAA4PboQAIAAFjLuRqQdCABAABQPHQgAQAArOVks7ApIAEAAKzFJBoAAADg9uhAAgAAWMu5GpB0IAEAAFA8dCABAACsxSQaAAAAFIuTFZCcwgYAAECx0IEEAACwksm5GpB0IAEAAFA8dCABAACs5WTXQFJAAgAAWIsn0QAAAAC3RwcSAADAWk52CpsOJAAAAIqFAhIAAMBaLjZaimHz5s3q3bu3unfvrlWrVhV4/ccff9Tjjz+uv/zlLxo2bJjS0tKKf5z/QwEJAABgLYPBNouFEhMTNWfOHK1evVqxsbFau3atzpw5Y37dZDLp6aef1vDhw7Vp0yY1atRICxcuLPHhUkACAACUcXv37lXr1q3l6+srT09P9ejRQ1u3bjW/fvz4cXl6eqpDhw6SpBEjRmjIkCEl3h+TaAAAAKxlo0k06enpSk9PL7Dd29tb3t7e5vWkpCQFBASY1wMDA3XkyBHzekJCgvz9/TVhwgSdPHlSdevW1csvv1ziXHQgAQAAHNTy5cvVpUuXAsvy5cvzjTMajTLccsrbZDLlW8/NzdWBAwc0ePBgbdiwQTVq1NDrr79e4lx0IC3UuZ6/xnaqLzdXF8UlXdPYLcd17UZevjGTutyl3g0DdSU7V5L0Y0qGomKP2iMuCrFo9tM6HpeguQu32DsK/ufcd8d0+MONysvJlW/Namr91BCV9/QoMM5kMmnfOx/It0aIGoV3tUNSSNJXu7/X3DlrlXMjVw1Ca+iVV4fLy8uzwLjVq7Zr3ZodMhgMql4zUP985Un5+fnYIbHz+OHAcX2+dLNyc/IUXCdE/UYNlntFd4vGZGdkacOcNbp0NlEmo0n3dm2pDg/zPSsuk41uJD506FBFREQU2H5r91GSgoODdejQIfN6cnKyAgMDzesBAQGqVauWmjRpIknq06ePoqOjS5yLDqQFqniW1xt9GmvEx0fU+b29SriSqXGdGhQY16yaj0bGHlXvxfvUe/E+ikcHEVo/RJ+tmaSI3i3tHQW3yE6/qn3vfqD2o4crfM4UeQX66//WbCwwLu3cRe169S0l7P/eDinxq9TUdL08caHmzBulzZ/NUvXqgZr75toC444f/0nLl2zRB2v+qQ2bZ6hWrWAteGu9HRI7j4wr17Rh9moNnvSERr0/UZWD/fT50k0Wj9m54lP5+Ptq5LvjNeKtF3Rwyx4lnPzJHoeCQnh7e6t69eoFlt8XkG3bttU333yj1NRUZWVlafv27ebrHSXpvvvuU2pqquLi4iRJu3btUuPGjUucy6ICcvfu3SXewZ2gQx0/HbmQpvjLmZKkld+dVd/GwfnGuLkadHdwJT3Vura2Pdla7/YPU4i3e2Fvh1I2IrK7ln24S//est/eUXCLC0dOyq9eLXlXvfkXcoNuDyj+64MymUz5xp3a9qXqdWqrmq3us0dM/M/ePUfV+J66qlX75v/7Bg3uqi2f7CnweTVuXEefbH1TlSp56vr1G0pKvCxfXy97RHYaZ76LU7W7asqv2s3vUss+7XT4i2/zfTZFjek9or96DO8rSbqamq7cnFy5F3ImAH/AzrfxCQoK0ujRoxUZGal+/fqpT58+CgsL0/Dhw3X06FG5u7vr7bff1qRJk/TQQw9p//79GjduXIkP16JT2G+88YY6duxY4p2UdVW93XU+/bp5/UL6dXm7l5eXm6v5NHaQVwV9E39Zs746o1PJGXqqVS29P7Cpei+haLG30ZOXSZK6dAizbxDkk5lyRZ5+lc3rnn6+ysnKVm5Wdr7T2C2eGCTpZsEJ+7l4MUXBVauY14OCqujatSxlZGQVOI1dvnw57dxxSP98eZHc3Mrr2ZEDSzuuU0m7dFk+Ab7mdW9/X13PzNb1zOvm09h/NMbV1VUfzVyhE18fVqO2YfKvHlhgP/gDDvAkmvDwcIWHh+fbtmjRIvPPTZs21fr1f84ZAYtq2xo1amj8+PH68MMPFRsba16chYtBMslUYHveLX/d/ZKWrb+t+16nkjMkSe/t/1k1K3uqhg9dSKBQRmOhmw0uXFnjiExGkwwq+A+ky20+ry5dm+s/37ynp5/tr6eGvy7jbT5vWM9kNEmFfTauhmKN+evYSI1b+5qyrmbqi9VbC4wFbmVRB7Jy5ZtdgsOHD+fb3q9fvz8/kQM6n5ate0N+uwA8uFIFXcnKUVbOb/9DbBjgpUZBlbTh2AXzNoOkHGPBwhOA5OlfRZfOxJvXs1KvyK2ip8q5V7BfKOSz4K312v3Ft5Kka9ey1OCuGubXkhJT5e1TUZ6e+f9ITvj5oi5dStP9zUIlSREDOmra1CVKT8uQb+VKpRfeifgEVtbZH342r1+9lCYPL0+53fJdKmrM6W9PKqh2iLz9fFTBo4KadLxfJ77O/+89LGCjSTSOyqICMiYmpsC27OzsPz2Mo/rqpxRN7HqXalf2VPzlTA25v7q2n0rKN8Yok6Z2C9WhXy7rl7RsPX5/dcUlXdPFq9dv866Ac6sa1kjfr/y30i8kybtqoE7v+FrVm3OZgSOJih6oqOibp59TUtLUv+84/Rx/UbVqB2vd2p3q1LlZgd9JTr6isS8u0PoNMapcuZK2bN6j+g1qUDzaUP37G2rrolilnEuSX7VAHfh0jxq2ucfiMce++l4n9hzRX0Y+rLycPB376nvVvz/UHoeCMsSiAnLXrl2aO3euMjMzZTKZZDQalZ2drW+++cbW+RxCSmaOxnxyQu/0D5Obq0E/X87S6M3H1CTYWzMeulu9F+/TqeQMTdkep8UP3ydXg3Th6nWN3MgsbOB23H0qqdWIx/T1nPdlzM2VV1CA2jwbqZT//qz9C1ep94wJ9o6IW/j5+Wja9Kf0/Kh5ysnJVY0agXrt9aclSceP/agpLy/S+g0xata8of7xVD89EfmqXMu5KCCgsuYtGG3n9Hc2L99K6j/6Ua2ZvlR5uXmqUtVPA158TOdOJSh23od69u2xtx0jST2H99Om+eu04Omb9wRs1DZMrfs+aM9DKpsc4BrI0mQw/X4KXSG6deumadOmaenSpRoxYoR27NihrKwsTZ48uVg7q/Xa5yUOitKT9O4Se0dAMYzbOMzeEWCh8U19/3gQHEJs/CV7R4CFHq7b094RJEl1XvrEJu/704w+Nnlfa1l0tXqlSpXUunVrNW3aVFevXtWYMWO0b98+W2cDAACAA7KogHR3d9dPP/2kevXq6cCBA7px44ZycnJsnQ0AAKBMMLkYbLI4KosKyFGjRmnu3Lnq1KmTvvnmG7Vr105du/KYIwAAAGdk0SSali1bqmXLm4+B+/jjj5WWliYfH55rCgAAIMnpJtFY1IE8d+6c/v73v6t79+5KTk7WyJEjdfbsWVtnAwAAKBsMBtssDsqiAnLy5MkaNmyYPD095e/vrz59+uill16ydTYAAAA4IIsKyMuXL6t9+/aSJIPBoIcffljXrl2zaTAAAIAyw8VGi4OyeBb2xYsXZfhfK/XQoUNyc3OzaTAAAAA4piIn0WRmZsrT01Pjxo3TU089pYSEBPXt21dpaWmaN29eaWUEAABwbA58vaItFFlA9u3bVzExMWrevLnWr1+v+Ph45eXlqW7dunQgAQAAnFSRBeSUKVM0fvx4de3aVaNHj1aDBg1KKxcAAEDZwW18ftO+fXtt2rRJJpNJAwcO1KFDh3T+/HnzAgAAAN0sIG2xOKg/vJG4h4eHnnvuOV28eFFPP/20vL29ZTKZZDAYtHPnztLICAAAAAfyhwXkF198oWnTpql9+/b64osv5OXlVRq5AAAAygwTk2h+Ex0drRMnTmj69Olq06ZNaWUCAACAAyuygAwICNCmTZvk6elZWnkAAADKHge+6bctFFlAvvzyy+afT58+rbS0NJlMJvO2Fi1a2C4ZAABAWcEp7IKmTp2qL774QjVq1DBvMxgMWrFihc2CAQAAwDFZVEDu2bNHW7dulbu7u63zAAAAlD0OfMsdW7DojH2NGjXynboGAACA87KoA+nj46OHHnpI9913X75HGMbExNgsGAAAQJnhZB1IiwrIBx54QA888ICtswAAAJRNzlU/WnYKOyIiQo0bN1ZGRobS0tLUsGFDRURE2DobAAAAHJBFBWRsbKyeeeYZnT17VufPn1dUVJTWr19v62wAAABlgsnFYJPFUVl0Cnvp0qX66KOPVLlyZUnSiBEjFBkZqYEDB9o0HAAAAByPRQWk0Wg0F4+SVKVKFRmc7IaZAAAAt+VkdZFFBWRoaKimT59u7jiuX79eDRs2tGkwAAAAOCaLroF89dVXVb58eU2YMEHjx49XuXLlNGXKFFtnAwAAKBtcDLZZHJRFHUh3d3eNHTvW1lkAAADKJset9WyiyAIyIiJCGzZsUMOGDfNd82gymWQwGHTy5EmbBwQAAIBjKbKA3LBhgyQpLi6uwGs3btywTSIAAIAyxsWiiwLvHBYd7qBBg/KtG41GDRgwwCaBAAAA4NiK7EBGRkbqwIEDkpRv1nW5cuXUuXNn2yYDAAAoI5zsLj5FF5ArVqyQdHMW9qRJk0olEAAAQFlDAVmIMWPG6PPPP1dGRoYkKS8vT2fPntVzzz1n03AAAABwPBYVkC+88ILS0tKUkJCg5s2ba//+/br//vttnQ0AAKBMcLYn9Fk0ieaHH37QihUr1K1bNz355JNas2aNzp07Z+tsAAAAcEAWFZB+fn4yGAyqU6eOfvjhB9WoUUM5OTm2zgYAAFAmGAy2WRyVRaewGzRooGnTpmnw4MF68cUXlZSUJJPJVOydmdwt2h3sbNzGYfaOgGJ4ve9ie0eAhby2PGHvCLBQoIcD/8sNh+TIxZ4tWNSBnDJlinr16qX69etr5MiRSkpK0ptvvmnrbAAAAHBAFrUE//rXv5qfStOlSxd16dLFpqEAAADKEgNPoinI399fhw4d4vGFAAAAsKwDefToUT322GPmKeomk0kGg0EnT560aTgAAICywNmugbSogNy3b1+BbXQjAQAAnJNFp7AHDRqUb91oNGrAgAE2CQQAAFDWuBhssziqIjuQkZGROnDggCSpYcOGMhgMMplMcnV1ZSINAADA/3AK+xYrVqyQJL366quaNGlSqQQCAACAY7PoFPazzz6rvXv3SpLee+89RUdH65dffrFpMAAAgLLC2Z5EY1EB+eKLL+rkyZPau3evtm7dqs6dO2vChAm2zgYAAAAHZFEBmZaWpmHDhmnnzp2KiIhQv379lJGRYetsAAAAZYLBYLDJUhybN29W79691b17d61ateq243bv3q3OnTtbdbwW3cbHaDTq2LFj2rFjh1auXKmTJ08qLy/Pqh0DAADcKez9JJrExETNmTNH//73v+Xm5qZHHnlErVq1Uv369fONu3TpkmbMmGH1/iw63DFjxmjmzJn6+9//rho1amjKlCkaN26c1TsHAADA7aWnp+vs2bMFlvT09Hzj9u7dq9atW8vX11eenp7q0aOHtm7dWuD9Jk2apKioKKtzWdSBbNOmjdq0aWNeX7dundU7BgAAuFPYasLL8uXLtWDBggLbo6KiNHLkSPN6UlKSAgICzOuBgYE6cuRIvt9ZsWKF7r77bjVt2tTqXEUWkBEREdqwYYP5HpDSzccYSuJRhgAAADY2dOhQRUREFNju7e2db91oNOa7ZvLXx07/6tSpU9q+fbuWLVumixcvWp2ryAJyw4YNkqS4uDirdwQAAHCnslUH0tvbu0CxWJjg4GAdOnTIvJ6cnKzAwEDz+tatW5WcnKwBAwYoJydHSUlJevTRR7V69ZIDecAAACAASURBVOoS5bLoFPbvW6cGg0Hu7u6qV6+eOnbsWKIdAwAA3Cnsfc/Gtm3bav78+UpNTZWHh4e2b9+uadOmmV+Pjo5WdHS0JOns2bOKjIwscfEoWTiJJiEhQf/5z3/MVfA333yjgwcPat26dZo5c2aJdw4AAADrBQUFafTo0YqMjFS/fv3Up08fhYWFafjw4Tp69Oifvj+LOpA//fSTVq1aJTc3N0nSI488oscff1xr167VX/7yF40dO/ZPDwYAAFBWuDjAU2PCw8MVHh6eb9uiRYsKjKtevbp27dpl1b4s6kCmp6crNzfXvJ6Tk6PMzExJv02qAQAAgHOwqAM5ZMgQDRgwQB07dpTJZNKXX36pxx57TMuWLdNdd91l64wAAAAOzd7XQJY2iwrIyMhItWrVSt98841cXFz01ltvqUGDBoqPj9ejjz5q64wAAABwIBY/eOfUqVO6fPmyBg4cqOPHj0uSateubb4uEgAAwFkZDLZZHJVFBeSsWbP05Zdfavv27TIajfr444/1+uuv2zobAABAmWBwMdhkcVQWFZBff/213njjDVWoUEFeXl5aunSpvvrqK1tnAwAAgAOy6BpIF5ebdeavj8S5ceOGeRsAAICzc+TTzbZgUQHZs2dPjRo1SmlpaVq2bJk2btyoPn362DobAAAAHNAfFpA//vij+vbtq0aNGikkJEQXL17U3/72N3377belkQ8AAMDhOVsHssjz0PPnz9eAAQPUs2dPubi46KWXXpK/v7+mTp2qc+fOlVZGAAAAh+Zss7CL7EDGxsZq27ZtSkpK0ltvvaWlS5cqMTFR8+bN0wMPPFBaGQEAAOBAiiwgK1asqMDAQAUGBurIkSPq16+f3nvvPbm6upZWPgAAAIfnwHfcsYkiC8hbZ1pXrlxZ48aNs3kgAAAAOLYiC0jDLSff3d3dbR4GAACgLHLk6xVtocgC8vTp0+rSpYskKTEx0fyzyWSSwWDQzp07bZ8QAADAwRmc7PbYRRaQ27ZtK60cAAAAKCOKLCCrVatWWjkAAADKLGc7he1kDVcAAABYy6JHGQIAAOD2DE7WgqQDCQAAgGKhA2mhznX89FL7unJzdVHcpWsasz1O127k5RszqUM9PXRXoK5k50iSfrycqWe3nLBHXKd27rtjOvzhRuXl5Mq3ZjW1fmqIynt6FBhnMpm0750P5FsjRI3Cu9ohKYqyaPbTOh6XoLkLt9g7CiQlfHtMB1ZtUl5urqrUrKYHn3lUbrf5Xu1e8IGq1AxR0758r0rL6QPH9cXyzcrNyVVQ7RD1GTVYFX73+RQ15s3B4+Xt52se23pAZzXp1KJUj6Gsc7IGJAWkJap4lNesHg3V/8PvFH8lS+MfqKtx7etp0q5T+cY1C/FR1Jbj+vZCup2SIjv9qva9+4G6TX1B3lUD9f2qWP3fmo1qMeyRfOPSzl3UoSVrdelMvHxrhNgpLQoTWj9Ec6c9oRb31dPxuAR7x4GkrLSr2v32SvWd/rx8qgZq/wexOrBqk9oPH5Rv3OWzF7Xn/XVKOh2vKjX5XpWWjLSr2jx3lf72xihVqRaonUs2atfSzer17MMWjUk5mygPL08NX/CSHY+i7HO2AtKiU9i7d++2cQzH1qFWFR2+eFXxV7IkSR8cPq9+jYLyjXFzNahxoJdGtKip7ZEt9G54Y4VUqmCPuE7twpGT8qtXS95VAyVJDbo9oPivD8pkMuUbd2rbl6rXqa1qtrrPHjFRhBGR3bXsw13695b99o6C/zl7OE4B9WvJ53/fq7t7PKDT/yn4vTq+9Ss17NJGddvwvSpNP34Xp5AGNVWl2s3Pp9lD7XVs96F8n09RY345+ZMMLi5aPnauFj77ur5a/ZmMeUa7HAvKDosKyDfeeMPWORxaSKUKunA127x+4ep1eVcoJy+3354JHlSxgvb+ckVv7PlJ3Vcc1PcX0vV+3yb2iOvUMlOuyNOvsnnd089XOVnZys3KzjeuxRODVLs9p2cc0ejJy7R24157x8AtMlIuy+uW05sV/XyVk5mtnN99r9o/+bDqP8D3qrSlJ1+Rd8Bv/9/z9vfV9cxs3bjl8ylqjDHPqDr3hmrwK08rcka0fvwuTgc3f1mqx3AnMBhsszgqi05h16hRQ+PHj1fTpk3zPdKwX79+NgvmSAwGg0yFbM8z/rb1l/Rs/W3DEfP6e4d+UXSr2qrh7a5f0rML+W3YhLHwv5oNLswXA0rKZDQV+i8Z3yvHYDKZpEIKjVs/n6LG3N+zbb5trSI66eCmL9WqX6c/OyruIBZ9+ytXvvlXy+HDh7V//37z4izOX81WUEU383qwl5uuZOcoK/e3YqWhf0X1/91pbYNByjEWVnrCVjz9qyjrcpp5PSv1itwqeqqcO5cTACXlFVBZmam/fa8yUtNUwctT5fleOQSfgMq6lvLb55OekiZ3L0+53fL5FDXmyK4DSvzp3G9vaDLJxfW3M2ywjIvBNoujsqgDGRMTI0lKS0uTj4+PTQM5oq/iUzWpQ33V9vVQ/JUsPda0mrafuZRvjNEkTe3UQAfPpemX9Gw93jREcckZunjtup1SO6eqYY30/cp/K/1CkryrBur0jq9VvXmYvWMBZVr1po20b/kGpV1Ikk/VQJ3c/h/VasElOo6i7v0NtWNxrFLPJalKtUB99+nXuqt1E4vHJMdfUNyewxo4YZjycnN18JP/6J6Oze1xKGWaIxd7tmBRARkXF6dRo0YpOztba9eu1WOPPaa5c+eqcePGts7nEFKycvTi9pN6N/welXcxKCEtS6O2nlRYUCXN6BaqXisP6VRKhiZ/cVpL+jWRi8Ggi9euK+rT4/aO7nTcfSqp1YjH9PWc92XMzZVXUIDaPBuplP/+rP0LV6n3jAn2jgiUOR4+lfTgs4/p81mLZczNlXeQvzqOjFTymZ/11burNWDWeHtHdGoVfSspfNSjWh+zRHk5eapc1V99X3hM508naMu8NRq+4KXbjpGkDo/20tZ3P9LCZ2OUl2dUo/b36r4ebex8VHB0BtPvp9EVYsiQIXrllVf0wgsvKDY2Vnv27NGcOXO0fv36Yu2s5uwvShwUpWdYp7w/HgSH8XrfxfaOAAu9uuUJe0eAhQI9mIVcVjxev4e9I0iSemz72ibvu61He5u8r7UsugYyKytL9erVM6+3a9dON27csFkoAAAAOC6LTmH7+voqLi7O/JzHTZs2OeW1kAAAAIXhGshC/POf/9RLL72k06dPq3nz5qpVq5ZmzZpl62wAAABlgrPd1MqiAjI9PV1r1qxRZmamjEajvLy8bJ0LAAAADsqiAnLOnDn6+eef1bp1a3Xs2FHt2rWTh4fHH/8iAACAE3AxONd9ny3quC5evFhbtmxRt27dtG/fPvXp00fDhw+3dTYAAAA4IIs6kKmpqTpw4IAOHDigQ4cOycfHR/Xr17d1NgAAgDKBSTSFaNu2rfz9/RUZGakPPviAGdgAAABOzKIC8rPPPtO+ffu0f/9+RUZGqn79+mrVqpUefvhhW+cDAABweMzCLkSdOnVUp04d3Xfffdq7d68+/PBDHT16lAISAABAnMIu1OjRo/Xdd9+pTp066tixo959913VrVvX1tkAAADggCwqIHv16qVXX31VJpNJRqNR3t7ets4FAABQZhic7DY+FhWQDRs21NChQ/XLL7/IZDIpJCREc+bMUZ06dWydDwAAAA7Goms+p0yZoieffFL79+/XgQMH9I9//EOTJ0+2dTYAAIAywcVgm8VRWVRAXr58WT179jSv9+7dW1euXLFZKAAAgLLExUaLo7Iom5ubm44fP25eP3bsGI8yBAAAcFIWXQM5ceJEjRw5Ur6+vjKZTEpLS9OcOXNsnQ0AAKBMcLZnYRdZQCYmJmrmzJk6ffq02rRpo4iICFWqVEl16tSRm5tbaWUEAACAAynyFPaECRMUGBio559/XkajUR9//LFCQ0MpHgEAAG7hbJNo/rADuXjxYklSu3bt1K9fv1IJBQAAUJY48oQXWyjyeMuXL5/v51vXAQAA4JwsmkTzK4PBgXupAAAAduLIp5ttocgC8vTp0+rSpYt5PTExUV26dJHJZJLBYNDOnTttHhAAAACOpcgCctu2baWVAwAAoMziNj63qFatWmnlAAAAKLMc4RT25s2b9c477yg3N1dDhw7VkCFD8r2+Y8cOzZ8/XyaTSdWrV1dMTIx8fHxKtC9nmzQEAABwx0lMTNScOXO0evVqxcbGau3atTpz5oz59WvXrumf//ynFi5cqE2bNik0NFTz588v8f4oIAEAAKxk72dh7927V61bt5avr688PT3Vo0cPbd261fx6Tk6OpkyZoqCgIElSaGioLly4UOLjLdYsbAAAAJSe9PR0paenF9ju7e0tb29v83pSUpICAgLM64GBgTpy5Ih5vXLlyurWrZskKTs7WwsXLtTjjz9e4lwUkAAAAFay1SSa5cuXa8GCBQW2R0VFaeTIkeZ1o9GY73aLv94x5/euXr2qZ599Vg0bNlRERESJc1FAAgAAOKihQ4cWWujd2n2UpODgYB06dMi8npycrMDAwHxjkpKSNGzYMLVu3VoTJkywKhcFJAAAgJVsNQv796eqb6dt27aaP3++UlNT5eHhoe3bt2vatGnm1/Py8jRixAj16tVLzzzzjNW5KCABAACsZO/b+AQFBWn06NGKjIxUTk6OBg4cqLCwMA0fPlzR0dG6ePGiTpw4oby8PPN9vu+55x5Nnz69RPujgAQAALgDhIeHKzw8PN+2RYsWSZKaNGmiuLi4P21fFJAAAABWcrb7Ijrb8QIAAMBKdCABAACsxLOwAQAAUCz2nkRT2jiFDQAAgGIp1Q5kwvPVSnN3KKEbxoKPTILj8tryhL0jwEKTHlpi7wiw0JZ9JX/EG5yTs3XknO14AQAAYCWugQQAALCSs10DSQEJAABgJYOTzcLmFDYAAACKhQ4kAACAlZztFDYdSAAAABQLHUgAAAArOVtHztmOFwAAAFaiAwkAAGAlnoUNAACAYmESDQAAAFAEOpAAAABWogMJAAAAFIEOJAAAgJVc7R2glFFAAgAAWMnZZmFzChsAAADFQgcSAADASkyiAQAAAIpABxIAAMBKztaBpIAEAACwkquTFZCcwgYAAECx0IEEAACwkrOdwqYDCQAAgGKhAwkAAGAlbiQOAAAAFIEOJAAAgJWc7RpICkgAAAArudo7QCnjFDYAAACKhQ4kAACAlZztFDYdSAAAABQLHUgAAAArOdttfCggAQAArMSzsAEAAIAi0IEEAACwEpNoAAAAgCLQgQQAALCSs3UgKSABAACs5GwFJKewAQAAUCx0IAEAAKzkyn0gUZjduw/qzTdX6MaNHIWG1tZrr0XLy8vztuN37PhGY8bM0fffryvFlPjVV7u/19w5a5VzI1cNQmvolVeHF/p5rV61XevW7JDBYFD1moH65ytPys/Pxw6JnVPCt8d0YNUm5eXmqkrNanrwmUfl5ulRYJzJZNLuBR+oSs0QNe3b1Q5JUZRFs5/W8bgEzV24xd5RnNrRb45r4/tblJOTq+p1Q/TYmEfkUdHd4nE3rt/Qh3M/VnxcgmQyqXajWnpk1AC5VXCzw9HA0XEK2wKpqWkaP36e5s8fr23b3lWNGsGaNWvZbcfHx5/XjBlLJTnXXyOOIjU1XS9PXKg580Zp82ezVL16oOa+ubbAuOPHf9LyJVv0wZp/asPmGapVK1gL3lpvh8TOKSvtqna/vVLdxjypQW9NlneQnw6s2lRg3OWzF7Vl6nz9tO//7JASRQmtH6LP1kxSRO+W9o7i9K5euaYVMz/UP6b+XVNXTJB/VT/FLvykWOM+W7lDxjyjJi0eo0mLxyrnRo62rdpZ2odSZrnYaHFUFmUbP368rXM4tK+//l5NmjRQ7dohkqTBg3tp8+YvZTIVLBCzsrI1ZsybGjduWGnHxP/s3XNUje+pq1q1gyVJgwZ31ZZP9hT4vBo3rqNPtr6pSpU8df36DSUlXpavr5c9Ijuls4fjFFC/lnyqBkqS7u7xgE7/52CBz+n41q/UsEsb1W1znz1ioggjIrtr2Ye79O8t++0dxemdPPiDaofWUGD1AElSh77tdGDntwW+T0WNaxBWV70e7yYXFxe5uLqoRv1qSklMLfVjQdlgUQF56tQpZWRk2DqLw7p4MVnBwf7m9eBgf127lqmMjKwCYydPfluDBvVUaGjtUkyIW128mKLgqlXM60FBVXTtWlahn1f58uW0c8chde04Ut8eilO/iAdLM6pTy0i5LC8/X/N6RT9f5WRmKycrO9+49k8+rPoPtCjteLDA6MnLtHbjXnvHgKTLyZdVOfC375NvgI+yM7KVnXnd4nF3t2iooBo3/6BLuZiqXR9/pWYd7y2dA7gDuBhsszgqi66BdHFxUadOnVSnTh1VqFDBvH3FihU2C+ZIjEaTDIaCn6KLS/76e9WqLSpXzlUDB3bT2bOJpRUPv2MymmTQH39ev+rStbm6dG2u9et26anhr+vTbbNvOxZ/HpPRJBXyvTLw3x4oNuNtvk8uv6tALBn38w+/6L3JS/Rgv/Zq0qbxnx/2DuXIxZ4tWFRAjhkzxtY5HM68eSu1a9cBSdK1a5m6667a5tcSE1Pk4+MlT8/8Fydv2LBT2dnX1bdvtHJycpWdfUN9+0Zr4cIpCgryK834TmfBW+u1+4tvJUnXrmWpwV01zK8lJabK26digc8r4eeLunQpTfc3C5UkRQzoqGlTlyg9LUO+lSuVXngn5RVQWUmn483rGalpquDlqfLuFW7/SwDMNi/5TEf2HpMkZWVmq1qdEPNrV5LT5FnJUxU88n+fqgRVVvzJhNuOO7jrO30492MNiu6vll2blcJRoKyyqIBs2bKlvv32W506dUoDBgzQ4cOH1aLFnX1K6bnnHtNzzz0mSUpJuaLw8JGKjz+v2rVD9OGHn6lLl1YFfmf9+tnmn8+eTVR4eJQ2bnyr1DI7s6jogYqKHihJSklJU/++4/Rz/EXVqh2sdWt3qlPngv8jTE6+orEvLtD6DTGqXLmStmzeo/oNalA8lpLqTRtp3/INSruQJJ+qgTq5/T+q1aKJvWMBZUb4E70U/kQvSVL65at6ddhMJZ1NVmD1AP1n8141bXdPgd9p1DxUH7+zsdBxR/Ye07r5GxT9xlOqFVqzVI/lTsBtfAqxfPly7dixQ0lJSerZs6cmT56sgQMHatgw55go4ufnq5iY5xQdHaOcnFzVrBmsGTOelyQdPXpakybNp1B0IH5+Ppo2/Sk9P2qecnJyVaNGoF57/WlJ0vFjP2rKy4u0fkOMmjVvqH881U9PRL4q13IuCgiorHkLRts5vfPw8KmkB599TJ/PWixjbq68g/zVcWSkks/8rK/eXa0Bs5x78h5QHN6VKyly7GAtnLJMebm58g/x19/GPypJ+vmHBK18Y60mvj+myHEfv7tJMpm08o3f7lpR9546GjxqoF2OCY7NYCpsKvHv9OvXT+vWrdPDDz+s2NhYZWRk6K9//as+/fTTYu7uVAljojTdMKbbOwKKYf7xy/aOAAtNemiJvSPAQlv2PW7vCLBQ55De9o4gSdr482c2ed++tXrZ5H2tZdHV6i4uLnJz++1GohUqVJCrq6vNQgEAAJQljjALe/Pmzerdu7e6d++uVatWFXj95MmT6t+/v3r06KGJEycqNze35MdryaCWLVtqxowZysrK0o4dO/T000+rVauC1wACAACg9CUmJmrOnDlavXq1YmNjtXbtWp05cybfmDFjxmjy5Mnatm2bTCaT1q0r+dPyLCogx44dq1q1aik0NFSxsbF68MEHnf7m4gAAAL+yVQcyPT1dZ8+eLbCkp+e/3Gzv3r1q3bq1fH195enpqR49emjr1q3m18+dO6fs7Gzde+/Ne3v2798/3+vFZdEkmkWLFumpp57SI488Yt42e/ZsPf/88yXeMQAAAIq2fPlyLViwoMD2qKgojRw50ryelJSkgIAA83pgYKCOHDly29cDAgKUmFjye1YXWUDOmjVLKSkp2rVrl+Lj483b8/LydPjwYQpIAAAASa42upH40KFDFRERUWC7t7d3vnWj0ZjvoScmU/6HoPzR68VVZAHZvXt3/fe//9W+ffvUsmVL83ZXV1c988wzJd4pAADAncTFRveB9Pb2LlAsFiY4OFiHDh0yrycnJyswMDDf68nJyeb1S5cu5Xu9uIosIMPCwhQWFqauXbvK1dVVCQkJuuuuu5SdnS1PT88S7xQAAAB/nrZt22r+/PlKTU2Vh4eHtm/frmnTpplfr1atmipUqKBvv/1WzZo108aNG9WhQ4cS78+iSTTHjh1T37599cwzzyglJUWdOnXS119/XeKdAgAA3ElcbLRYKigoSKNHj1ZkZKT69eunPn36KCwsTMOHD9fRo0cl3bw0MSYmRj179lRmZqYiIyNLfLwWTaKZPXu2Vq9ereHDhysgIECrVq3S888/r/bt25d4xwAAAPjzhIeHKzw8PN+2RYsWmX9u2LCh1q9f/6fsy6IC0mg05pu5U79+/T9l5wAAAHeC4t70u6yzqIAMDg7WF198IYPBoPT0dK1atUohISG2zgYAAAAHZNHp9VdeeUWbN2/WhQsX1LVrV508eVKvvPKKrbMBAACUCa4G2yyOyqIOpJ+fn2bPnm3rLAAAAGWSrW7j46gsKiC3bt2qhQsXKi0tLd/2nTt32iQUAAAAHJdFBeSMGTM0c+ZMrnsEAAAoBJNoClGzZk01a9ZMLi7FuSMRAAAA7kQWFZBPPPGEIiMj1aJFC7m6upq3R0VF2SwYAABAWUEHshDvvPOO6tSpk694BAAAwE3Odo7WogIyJydHMTExts4CAACAMsCiArJdu3ZauXKlHnjgAZUvX968nUk1AAAAkoFT2AV98sknkqQlS5aYtxkMBm7jAwAA4IQsKiB37dpl6xwAAABllpM1IC275jM1NVWjRo1Sq1at1Lx5c0VFRenSpUu2zgYAAFAmGAy2WRyVRQXk5MmT1aRJE+3cuVO7du1S06ZNNXHiRFtnAwAAgAOyqID85ZdfNGzYMHl5ecnb21vDhw/X+fPnbZ0NAACgTHCx0eKoLMpmMBh04cIF8/r58+dVrpxFl08CAADgDmNRFfjcc89p0KBBatq0qUwmkw4fPqxp06bZOhsAAECZYDCY7B2hVFlUQHbq1ElNmzbVkSNHZDQaNXXqVPn5+dk6GwAAABxQkQXkggULCt1+4sQJSTwLGwAAQHK+2/hwISMAAICVHPmWO7ZQZAFJhxEAAAC/V2QBGRERoQ0bNqhhw4Yy3FJam0wmubi4mE9lAwAAODMna0AWXUC2bt1akhQXF5dv+3//+1+NHj3adqkAAADgsIq8D+R3332nOXPm5Nu2bt06DRo0SN27d7dpMAAAgLLCxWCbxVEVWUAuXrxYBw4c0Pz585Wenq6RI0dqyZIlWrJkCddHAgAA/I/BRoujKrKA9PLy0vvvv699+/apW7du8vf3V2xsrMLCwkorHwAAABzMHz7KsGLFinr//fcVGhqqoKAgubu7l0YuAACAMsNgsM3iqIqcRPP444+bZ19nZWVp7ty5+vLLL1W+fHlJ0ooVK2yfEAAAAA6lyAJy5MiRf+rO/nUi/k99P9iGv7vR3hFQDIEeDvwnKvLZsu9xe0eAhR5q/YG9I8BCWQm97R1BkmNfr2gLRRaQLVu2LK0cAAAAZZazFZB/eA0kAAAAcCuehQ0AAGAlR75noy3QgQQAAECx0IEEAACwkpM1IOlAAgAAoHjoQAIAAFjJYDDZO0KpooAEAACwEqewAQAAgCLQgQQAALCSIz+32hboQAIAAKBY6EACAABYydk6chSQAAAAVuIUNgAAAFAEOpAAAABWcrIGJB1IAAAAFA8dSAAAACs52zWQFJAAAABWcrL6kVPYAAAAKB46kAAAAFZycbIWJB1IAAAAFAsdSAAAACs5WQOSDiQAAACKhw4kAACAlQwGk70jFOr8+fMaM2aMUlJSVKdOHc2aNUsVK1bMNyYpKUnjx4/XpUuX5OLiorFjx6pNmzZFvi8dSAAAACsZbLRYa+rUqXr00Ue1detW3XPPPfrXv/5VYMzMmTPVuXNnbdy4UW+++aZefPFF5eXlFfm+FJAAAAB3oJycHB08eFA9evSQJPXv319bt24tMK5bt27q06ePJKlWrVq6fv26MjMzi3xvTmEDAABYyVZPoklPT1d6enqB7d7e3vL29i7ydy9fviwvLy+VK3ez3AsICFBiYmKBcb8WmJK0ePFiNWrUSJUqVSryvSkgAQAAHNTy5cu1YMGCAtujoqI0cuRI8/pnn32mmJiYfGNq1aolw+8q29+v32rZsmVau3atVq5c+Ye5KCABAACsZKvb+AwdOlQREREFtv+++9irVy/16tUr37acnBy1atVKeXl5cnV1VXJysgIDAwvdz8yZM/Xll19q1apVCg4O/sNcFJAAAABWstWkEktOVd9O+fLl1bx5c3366acKDw9XbGysOnToUGDcsmXLtH//fq1Zs8bifRlMJlOpzTv/14ntpbUrWMHf3WjvCCiG60Znu31t2VXNs+hZjXAcD7X+wN4RYKGshDX2jiBJSsneZJP39XP/i1W/f+7cOY0bN04pKSmqWrWqZs+eLR8fH61Zs0ZJSUmKjo5Wy5Yt5eXlla94XLhwoYKCgm77vnQgAQAArGSrSTTWqlatmj74oOAfRIMHDzb/fPDgwWK/L7fxAQAAQLHQgQQAALCag7YgbYQCEgAAwEoGJysgOYUNAACAYqEDCQAAYCWDwbl6cs51tAAAALAaHUgAAACrOdc1kBSQt/HToWPas3Kz8nJy5V8rRF2jHlUFTw+LxhjzjNq96COdO35GklS72d1qP7Rfkc+fRMn9cOC4Pl+6Wbk5eQquE6J+owbLvaK7RWOyM7K0Yc4ay/F+NwAAHddJREFUXTqbKJPRpHu7tlSHh7va6UjufKcPHNcXyzcrNydXQbVD1GfU4ALfq6LGvDl4vLz9fM1jWw/orCadWpTqMTiTo98c18b3tygnJ1fV64bosTGPyON3362ixt24fkMfzv1Y8XEJksmk2o1q6ZFRA+RWwc0ORwNJWjT7aR2PS9DchVvsHeWOwyQaKDPtqj6fv0oPjR2moW+/LJ9gf+35YJPFY+K+PKDL5xI1ZO54PTpnnM4eP6Mze//PHodyx8u4ck0bZq/W4ElPaNT7E1U52E+fL91k8Zid/9/e3cfVeP9/AH+dbojSjZr9vln7bkhFasxU5ObUZlpahfS1Je1nfM1dLBRaQowytuyO3aCZYTWZifkupqQ7M2IS5i7MTUml+875/P7w6xDtOHyd06nzenr0eJxzXZ/rOu/PdZ3r8j6f63N9roQUmFmZY9rnczEpPgy5OzNwMf9cc1Sl1asoLceOD7/FqHn/i8lrI2H+P5bYu26HymWKL11DO5P2mPBxuOKPyaP6lN+6jYTYzZi48C0sTJgHq39YInntT49UbtfGXyCXyRH51WxEfjUHdbV1+PnbVE1XhQDYdbPGru8i4f9av+YOhVoJJpBNuHjkJJ62fRYW1nceOO40zB0FaYdw71MflZWRywXqamohq6+HrK4e8vp66LdhY686nDl8Ep27PwvLznf2Q7/hA3B032+N9pWyMq9NGoFXJ/gCAMpvlqG+rh5G97WI0ZNx9vBJWNs+i47/vx9e9HbH8V8bH1fKyhTmn4NETw8b5nyItVOWIW3TLshlfOymuuTnFuA5Oxt0euYpAMAg3wHISW18bD2snK1TF3iNfQV6enrQ09eDTbfOKL52U+N1IWBS8FCs37wXP+zMbu5QWjGJmv60k0pZzdatW7Fq1SrcunULACCEgEQiQX5+vlqDay7lRSUwsbRQvDexNEdtZTVqq6oVl9KUlekhdcGZg7/jq/GRkMvkePYFe3R5qZfG66ELSotKYPbU3UuaplbmqKmsRk1ljeIy9sPK6Ovr4/vYBJw4cBQO/Z1g9UwnjddDF5TduAXTp+4eMw374d7jSlkZuUyO51+wg8dbPpDXy7A5eg3atjeCi59U43XRBSU3SmDR6e5xY/6UGaorqlFdWdPoMraycj1esldML756E3uT0vBm2GjNVIAamRm1HgDgOcipeQOhVkOlBPLzzz9HQkICbG1t1R2PVmhIkO+np6enUpnsLbvQztQEE9YtRX1tHX5a9gUOb09FH19Ptcati4RcoKlfaHr6kkcqEzAnGDXTarA55mvs27QbnmNfU0e4Ok0I0eSPacl9x9XflekzrH+jaS7+UuT+uJ8JpJrI5aLJh/vq6UkeudyFgkKsifoag/3c0cut55MPlkgLcBifJlhaWupM8ggAplYdUXGzVPH+dnEp2pq0h6FRW5XK/Jl1FD08XaFvaIC2xu3gIO2HwmOnNVoHXWHWyQLl9+yH8qJStDNpjzb37CtlZU7/lo+y4jvz2rZri15D+uCvM5c0VwEdYvaUBW4X390PZcWlMLp/Xykpk7c3B9fOXb67QiGgp6+vkdh1xY6vd2HJ23FY8nYcMlKyUFpUpph360Yp2ndoj7bt2jZapuPTFkrL5e49jPjZn8NvwnB4Bb2imYoQkdopTSCTk5ORnJwMa2trvPPOO0hMTFRMS05O1lSMGvfsC/b469R5lFy5DgA49vMBdOnXS+UyT3V9BqczfgcAyOplOJtzDP+we05zFdAh3frYo/DkeRRfvrMfclIyYO/mqHKZ42m/Y9+3uyGEQH1tPY6n/Y4uL+jOjyVN6tLHHpcLLuDm/++HwykH0N21l8plbpz/C/s3pkAuk6Oupha5P6Wjx6A+mq1EK+fzv16Y/+VszP9yNuZ8MgPn8s/j+qUbAID0HQfhPMDxgWUc+tr9bbm8g8exdfU2TI/7N/q9/KLmKkLULHSrD6RE3N8j+h5z585VuvD777//SB/26Yk9j1S+OZ377Q8c3PgjZHUymP2PFV4NHYvSa8X45ZNNeHNVxN+WMepgjKqyCvz6xVbcOHcJEj092DjZYeA4P+gbtowbaayMWtaNCady/sCe9T9BVi9Dx39YYuSsIJT8VYzkjzZjyidz/rZM+w7GqLpdiR9Xb8X1C38BABz6O8EjyKtRdwVtVyPX3hPM/c7k/oG9G3ZAVieDxT+s4BsWhJKrxdj50XeY8HH435Zp18EYddW12P3597h88jxkMjkc3F+ANHh4ixoeq3N7WXOH8EiOZ51A8hc7Iauvh5W1FULmvgFjU2NcKLiIjXFbMP/L2UrLLQheisqySphbmSnW2cXxeYyZMaq5qqQyb9dvmjsEtVj7wSScKChsVcP4VF38rrlDAACU16lnhIEOhtrZ/U1pAtkgIyMDAwYMaDRtz549GDp06CN9WEtKIHVZS0sgdV1LSiB1XUtLIHVZa00gWyMmkM1DaZNYSkoKamtrER8fj+nTpyum19fXY82aNY+cQBIRERG1Rro2kLjSBLKiogKHDx9GRUUFsrPvjh2lr6+PmTNnqj04IiIiItI+ShPIgIAABAQEIDMzE25ubpqKiYiIiKiFaTl9558Ele7qMDMzw/Tp01FaWtroKQQJCQlqC4yIiIiopWhJN/Q9CSolkOHh4QgMDIStra3ObSAiIiIiakylBNLIyAhBQUHqjoWIiIiohdKtBjaVEkh3d3d88803cHd3R9u2d59CYG1trbbAiIiIiEg7qZRAbt++HQCwbt06xTSJRILUVPWMeURERETUknAYnybs3btX3XEQERERtWC6dRe2SrW9efMmZsyYARcXF/Tt2xdTp05FUVGRumMjIiIiIi2kUgIZFRWFXr16ITU1FXv37oWzszPmz5+v7tiIiIiIWgSJmv5pK5USyMLCQowfPx4mJiYwNTXFhAkTcOXKFXXHRkRERERaSKUEUiKR4K+//lK8v3LlCgwMVOo+SURERNTqSSQStfxpK5WywNDQUAQGBsLZ2RlCCBw9ehSLFy9Wd2xEREREpIVUSiClUimcnZ2Rl5cHuVyOhQsXwtLSUt2xEREREbUQ2ttaqA5KE8jk5OQmp6enpwMA/Pz8nnxERERERC2MRMeG8VGaQEZERMDS0hJubm4wNDR8YD4TSCIiIiLdozSB3LZtG1JSUpCRkQF7e3u89tpr6N+/P/T0dCvLJiIiIlKOl7AVHBwc4ODggLCwMBw7dgwpKSlYuXIlHB0d4e3tDRcXF03FSURERERaQuWxeHr16oVevXrh0KFDWLFiBXbs2IHff/9dnbERERERtQjaPOSOOjw0gRRCIDc3F7t370ZaWhocHBwwduxYSKVSTcRHRERE1AIwgVRYsGAB0tPT0aNHD3h5eWH27Nlo166dpmIjIiIiIi2kNIHcsmULzM3NceLECZw4cQIrV64EcKdVUiKRIDU1VSNBEhEREWkzDuNzDyaIRERERHQ/pQlk586dFa9Pnz6N0tJSCCGanE9ERESku9gH8gELFy7Evn37YGNjo5gmkUiQkJCgtsCIiIiIWgoJE8gHZWRkYPfu3TAyMlJ3PERERESk5VRKIG1sbBpduiYiIiKiuzgOZBPMzMzg7e2N3r17o02bNorp77//vtoCIyIiIiLtpFICOXDgQAwcOFDdsRARERG1ULo1jI9KtfX390fPnj1RUVGB0tJS2Nvbw9/fX92xEREREZEWUimBTE5OxuTJk3Hp0iVcuXIFU6dORWJiorpjIyIiImoRJGr6p61UuoS9bt06fP/997CwsAAATJo0CcHBwRg1apRagyMiIiJqGbQ32VMHlVog5XK5InkEgI4dO+rc3UZEREREdIdKLZB2dnZYsmSJosUxMTER9vb2ag2MiIiIqKXQtYY1lVogY2JiYGhoiHnz5mHu3LkwMDDAggUL1B0bEREREWkhlVogjYyMMGfOHHXHQkRERNRC6dYwPkoTSH9/f2zbtg329vaNmmaFEJBIJMjPz1d7gERERETaTpvvmFYHpQnktm3bAAAnT558YF5tba16IiIiIiIirSYRKjzkOjAwEFu2bFG8l8vl8PX1xY4dO9QaHBERERFpH6UtkMHBwcjJyQGARnddGxgYwMPDQ72REREREZFWUqkFMiYmBpGRkZqIh4iIiIi0nEoJZE1NDdLS0lBRUQEAkMlkuHTpEkJDQ9UeIBERERFpF5WG8QkLC0NpaSkuXryIvn37Ijs7G3369FF3bERERESkhVQatKigoAAJCQl45ZVX8Pbbb+O7777D5cuX1R0bEREREWkhlRJIS0tLSCQSPP/88ygoKICNjQ3q6urUHRsRERERaSGVLmHb2tpi8eLFGDNmDGbNmoXr169Dha6TRERERNQKqXQTTX19PY4cOYK+ffsiNTUVmZmZGD16NLp3766JGImIiIhIi6iUQDY80pCIiIiISKU+kFZWVjh06JDOPL7w0qVLcHR0hK+vL/z8/ODt7Y233noLV69ebVTu2rVrmDBhQjNFqZ3u3Xa+vr7w8fGBh4cH4uPjH2t9vr6+SuePHTv2kdd57zIPW//fWbRoEaZPn95o2oEDB+Dp6Ynbt28/1jpbI1WPJVK/7OzsRt/927dvY/To0Vi2bJniOFi9ejVWr16tthjy8vIQFxentvU3B1055126dAl2dnaIiopqND0/Px92dnb44YcfHmu9W7duxU8//QQAiIiIeOz1kOap1Afy2LFjCAoKgkRy50HhQghIJBLk5+erNbjm1KlTJ2zfvl3xftmyZYiNjcXKlSsV055++ml88cUXzRGeVrt/2127dg2vvvoqvL290bVr10da173raUrDk5Iexb3LPGz9fycsLAw+Pj5ITU2Fp6cnKisrER0djaVLl8LExOSx1tlaqXIskWZVVFTg7bffRr9+/TBr1iyNfe6ZM2dQXFyssc/TFF045wGAubk50tPTIZPJoK+vDwBISUlBx44dH3udhw8fRr9+/R57eWo+KiWQWVlZD0zTldbIBi4uLli5ciU8PDzg5OSE/Px8xMXFYcaMGdi7dy8uX76MuXPn4ubNmzAyMkJMTAzs7e2RnJyMDRs2QC6Xo2fPnliwYAHatm3b3NXRqBs3bkAIAWNjY6xduxa7du2CTCaDu7s7Zs+eDYlEgoSEBGzcuBEdOnRAly5d8Oyzz2LatGmws7NDQUEBMjMzFS0XZmZm+OCDD/Dpp58CAAICAvD999/D1dUVjo6OuHHjBhITE7Fw4UKcPn0aRUVFsLOzw8qVK7FixYpGyzSsv6qqCpGRkSgoKIBEIsH48ePh5+eHH374Aenp6SgtLUVhYSEGDBiA6OhoGBsbIyYmBvPmzYObmxvi4+Ph4eEBFxcX5OXl4f3330d1dTUsLCywcOFC2NjYICcnB6tWrUJ1dTXKysowd+5cvPzyy4iIiMCtW7dw4cIFzJ49u9U/JrThWDpy5AiWLFmCmpoaWFhYYNGiRTh58iR27dqFDz/8EOfOncOwYcOQkZEBKysrjB8/HqGhoTAzM0N0dDRu3boFIyMjvPfee+jRo4fObcfHVVlZiYkTJ8LV1RUzZswAAMVxcK99+/bhww8/hFwuh42NDRYtWgQrKyt4eHjA29sbGRkZMDAwwOTJk/H111/jwoULCA8Px2uvvYaioiJERUXh6tWrkEgkCAsLg6OjI+Lj41FZWYnPPvsMEydORGxsLHJyciCTyTBixAiEhIQgOzsbcXFxkMvlsLW1xfLly5tjM/1XWuM5DwCMjY1hb2+P3NxcuLq6AgAyMjLQv39/Rd2VfW9ef/11HDhwAFVVVVi+fDnKysqwd+9eZGVl4amnngIA/Prrr9i0aROKi4sxadIkBAYGamq30aMSKhg9enSj9zKZTAwfPlyVRVukwsJCIZVKFe9ra2tFeHi4iIyMFFKpVCQlJT1QbsKECWLjxo1CCCF+/fVXMX36dHHq1CkxZswYUV1dLYQQYsWKFeKTTz7RcG00q7CwUPTs2VO8/vrr4tVXXxX9+vUT48ePF2lpaWL//v1i2rRpor6+XshkMvHuu++K5ORkkZ+fL4YOHSrKy8tFdXW1CAgIEPHx8UIIIbp37y6EECIoKEgcPXpUCCHE2rVrRXp6eqP5Da+zsrKEEELk5OSI6OhoIcSd72tQUJDYvXt3k8sIIcTy5cvF4sWLhRBCFBcXCw8PD5Gfny+SkpLE4MGDRXl5uaisrBSDBg0SJ0+eVCw/f/58MX36dDF8+HBRVVUlampqhI+Pj7h8+bIQQoi0tDQxbtw4IYQQ06ZNE2fOnBFCCHHw4EHFMRQeHi7Cw8OfyPbXNn93LEVERAipVKrYpykpKWLEiBGivLxcuLu7C7lcLjZt2iTc3NzEzp07RVVVlZBKpUIul4vAwEDxxx9/CCGEOH36tBg6dKgQonVvxychKytLjBw5UgQFBYm+ffuKkpISxbyG4yA+Pl7Ex8eLoqIi4e7uLgoLC4UQQnzxxRdi2rRpQgghpFKpWL9+vRBCiIiICDFmzBhRV1cnsrOzha+vrxBCiBkzZohffvlFCCHEtWvXhKenpygvLxdJSUmKfbRp0yaxdOlSIYQQNTU1IigoSOTm5oqsrCzx4osvirKyMg1slf+erpzzGo7lH3/8UfE5R48eFRERESI8PFwkJSU99Huzbt06IYQQCQkJYurUqUIIoVi24fW///1vIZfLRUFBgXBxcXkyO4nUQmkLZHBwsKLp297eHhKJBEII6Ovrw9PTUyMJbnO5fv26oq9IbW0tnJycEBYWhoyMDDg7Oz9QPjc3V3FJbvDgwRg8eDA2btyICxcuYPTo0QCAuro69OjRQ3OVaCYNl3PkcjmWLVuGP//8EwMGDEBcXBzy8vIwYsQIAEB1dTWsra1x8+ZNSKVSxaVfb29vlJWVNVqnp6cnpk6dipdffhmenp4YMGBAk5/dsG9eeuklmJub49tvv8XZs2dx/vx5VFZW/m3MWVlZWLp0KQCgY8eO8PT0RE5ODkxMTNC7d29FbDY2NigtLVUsFxERgSFDhuCTTz6BkZERTp06hcLCQrzzzjuKMg19IuPi4rBv3z7s3r0bR48eVTwaFACcnJxU27gtUFPH0siRI5Gfn6+ot5eXF6KioiCEUIw3m5WVhXHjxiE3NxfGxsZwdXVFZWUljh8/jrlz5yrWX1lZiZKSEgCtezs+CceOHUNoaCi6dOmCyMhIfPzxx02Wy8vLg5OTE5555hkAQGBgINauXauYP2jQIACAtbU1OnXqBAMDA1hbWyuO24MHD+Ls2bOKfoD19fUoLCxs9BmZmZnIz89XXOGqrKxEQUEBunXrhueffx4dOnR4spVXI1045xkbGwMAPDw8FC2Mu3btgpeXF1JSUgA8/HszcOBAAHeGBtyzZ0+TcXl6ekIikcDW1lZxXJN2UppAJiQkAABiYmIQGRmpkYC0xf19Wu7V1CVoA4O7m1IIgT///BMymQxeXl6KbVdRUQGZTKaegLWQnp4e5syZAz8/P3z11VeQyWQYN24c3nrrLQBAWVkZ9PX1kZiYCLlcrnRdISEhkEql2Ldvn+KkfG+S1sDIyAgAkJqaivj4eAQHB2PEiBEoKSlROnbp/fOEEIp9de/+bvgR1cDExASmpqbo3LkzAEAul+OZZ55RfHdkMhmKiooAAG+88QZcXFzg4uICNze3Rn3PGuJujZo6lk6ePPlAuYZtPmTIEGRkZODs2bOIjo5GcHAw9PT0IJVKIZfL0aZNm0bru3r1KszNzQG07u34JPTu3RuTJ09GVVUV/Pz8sHnzZvzrX/96oNz9x6MQAvX19Yr3hoaGitf3nvvuXX7Dhg2K/XL9+nVYWlo26jcvk8kwe/ZsDB06FABw8+ZNGBsb48iRIy12P+rCOa/hMvZvv/2GrKwshIWFKRLIh31vGtbbcD9FUxr6ViorQ9pBpbuwp0yZgoMHDwIA1qxZg+nTpz/wa1LX9e3bFzt37gRw59f3e++9BxcXF/znP/9BcXExhBCIjo7Ghg0bmjlSzTIwMMCcOXPw6aefokePHti+fTsqKipQX1+PKVOm4Oeff4abmxv279+P27dvo7a2Fnv27Hng5BEQEICKigqEhIQgJCQEJ06cAHDnZHPvCapBZmYmvLy8MHLkSJiamiI7O1txcmxqGVdXVyQmJgK48x9ZamrqY3Xs7tKlC0pLS3Ho0CEAQFJSEmbNmoVbt27h/PnzCA0NxaBBg5CamqpTPybu16VLF9y6dQt5eXkA7nTEt7a2hrm5OQYPHozNmzejW7dusLCwgKGhIfbt24f+/fujQ4cOeO655xQJZEZGBt58883mrEqL0pD4tWvXDrGxsYiNjcWZM2ceKOfs7IyjR4/i0qVLAIAtW7bAxcVF5c9xdXXFpk2bANy5ccbHxwdVVVWNjj1XV1ds3boVdXV1qKiowBtvvIEjR478t1VsdrpwzvPy8sIHH3wAR0fHRj8gHud7o6+vr9PnwpZMpZtoZs2apegku3v3bowbNw7z5s3DN998o9bgWpKoqChERkZi06ZNaNeuHWJiYtCtWzdMnToV48aNg1wuh4ODAyZOnNjcoWrcoEGD0Lt3bxw6dAhDhw7F6NGjIZPJMHDgQPj7+0MikSA4OBiBgYFo3749LCwsHmjlfffddxEREQEDAwO0b98eMTExAO5c7vD19X1g6IeAgADMmjULO3fuhKGhIfr06aM4qTW1zJQpUxAdHQ0fHx/IZDJMmjQJPXv2fODGgodp06YNPvroI8XNISYmJli+fDnMzc0xatQoeHt7w8DAAK6urqiurlZ6iak1a9OmDVatWoXFixejqqoKZmZmWLVqFQCga9euEEIo/jPr168fTp8+rbiEFhcXh+joaHz55ZcwNDTEqlWr2FrxGJydnRESEoKZM2c+MM/KygqLFi3C1KlTUVdXB2trayxZskTldUdGRiIqKgo+Pj4AgNjYWJiYmMDJyQkff/wxVqxYgdDQUFy4cAH+/v6or6/HiBEj4OLiguzs7CdWx+bS2s95UqkU8+fPR2hoaKPpj/O96d+/P1auXNmiuizQHSoNJD5q1CgkJiZi8eLF+Oc//6loIud4TfQknDt3Dvv370dISAgA4J133kFAQADvoiWiVonnPGoNVGqBlMvlOH78OH755Rds3LgR+fn5bHKmJ6Zz5844duwYhg8fDolEAnd3d0il0uYOi4hILXjOo9ZApRbIzMxMfPbZZ/Dw8EBISAhGjx6NmTNnws3NTRMxEhEREZEWUSmBJCIiIiJqoPQStr+/P7Zt26YYAxK4e+t/a3+UIRERERE1jS2QRERERPRIVLqJ5v6nFUgkEhgZGaFr164YMmSIOuIiIiIiIi2l0kDiFy9eRHp6OkxNTWFqaorMzEzk5uZi69atiI2NVXeMRERERKRFVLqEHRAQgG+//RZt2rQBcOd5tmPHjsWWLVvw+uuv48cff1R7oERERESkHVRqgSwrK2v0GKS6ujrFEzTYhZKIiIhIt6jUB/LNN9/EyJEjMWTIEAghsH//fgQFBWH9+vXo3r27umMkIiIiIi2i8l3YBQUFyMzMhJ6eHtzc3GBra4vz58/D2tpacWmbiIiIiFo/lS5hA8CpU6dQUlKCUaNG4Y8//gAAPPfcc0weiYiIiHSMSgnkihUrsH//fuzZswdyuRxJSUlYtmyZumMjIiIiIi2kUgJ54MABxMXFoW3btjAxMcG6deuQlpam7tiIiIiISAuplEDq6d0p1vA4w9raWsU0IiIiItItKt2FPWzYMMyYMQOlpaVYv349tm/fjuHDh6s7NiIiIiLSQg9NIM+ePQtfX184ODjA2toaV69eRUhICH777TdNxEdEREREWkbpdejVq1dj5MiRGDZsGPT09BAeHg4rKyssXLgQly9f1lSMRERERKRFlI4D6enpie+++w7Xr19HfHw85HI5rl27hjlz5mDgwIGajJOIiIiItITSS9jGxsbo1KkTOnXqhLy8PPj5+WHNmjXQ19fXVHxEREREpGWUJpD33mltYWGBiIgItQdERERERNpNaR/IhmF7AMDIyEjtwRARERGR9lPaB9LR0RFPP/00AODatWuK10IISCQSpKamaiZKIiIiItIaShPIh91p3blz5yceEBERERFpN6UJJBERERHR/fg8QiIiIiJ6JEwgiYiIiOiRMIEkIiIiokfCBJKIiIiIHgkTSCIiIiJ6JP8HUljdT9QLq7UAAAAASUVORK5CYII=\n",
      "text/plain": [
       "<Figure size 864x576 with 2 Axes>"
      ]
     },
     "metadata": {},
     "output_type": "display_data"
    }
   ],
   "source": [
    "plt.figure(figsize=(12, 8))\n",
    "sns.heatmap(data.corr(), annot=True, fmt='.1g', cmap=\"YlGnBu\")\n",
    "plt.show()"
   ]
  },
  {
   "cell_type": "markdown",
   "metadata": {},
   "source": [
    "Видим что месяц регистрации после обработки выбросов стал совсем бесполезен для предсказания целевого признака. Стоит удалить чтобы не увеличивать бесполезными признаками время обучения модели"
   ]
  },
  {
   "cell_type": "code",
   "execution_count": 27,
   "metadata": {
    "scrolled": true
   },
   "outputs": [
    {
     "data": {
      "text/html": [
       "<div>\n",
       "<style scoped>\n",
       "    .dataframe tbody tr th:only-of-type {\n",
       "        vertical-align: middle;\n",
       "    }\n",
       "\n",
       "    .dataframe tbody tr th {\n",
       "        vertical-align: top;\n",
       "    }\n",
       "\n",
       "    .dataframe thead th {\n",
       "        text-align: right;\n",
       "    }\n",
       "</style>\n",
       "<table border=\"1\" class=\"dataframe\">\n",
       "  <thead>\n",
       "    <tr style=\"text-align: right;\">\n",
       "      <th></th>\n",
       "      <th>Price</th>\n",
       "      <th>VehicleType</th>\n",
       "      <th>RegistrationYear</th>\n",
       "      <th>Gearbox</th>\n",
       "      <th>Power</th>\n",
       "      <th>Model</th>\n",
       "      <th>Kilometer</th>\n",
       "      <th>FuelType</th>\n",
       "      <th>Brand</th>\n",
       "      <th>NotRepaired</th>\n",
       "    </tr>\n",
       "  </thead>\n",
       "  <tbody>\n",
       "    <tr>\n",
       "      <th>1</th>\n",
       "      <td>18300</td>\n",
       "      <td>coupe</td>\n",
       "      <td>2011</td>\n",
       "      <td>manual</td>\n",
       "      <td>190</td>\n",
       "      <td>NaN</td>\n",
       "      <td>125000</td>\n",
       "      <td>gasoline</td>\n",
       "      <td>audi</td>\n",
       "      <td>yes</td>\n",
       "    </tr>\n",
       "    <tr>\n",
       "      <th>2</th>\n",
       "      <td>9800</td>\n",
       "      <td>suv</td>\n",
       "      <td>2004</td>\n",
       "      <td>auto</td>\n",
       "      <td>163</td>\n",
       "      <td>grand</td>\n",
       "      <td>125000</td>\n",
       "      <td>gasoline</td>\n",
       "      <td>jeep</td>\n",
       "      <td>NaN</td>\n",
       "    </tr>\n",
       "    <tr>\n",
       "      <th>3</th>\n",
       "      <td>1500</td>\n",
       "      <td>small</td>\n",
       "      <td>2001</td>\n",
       "      <td>manual</td>\n",
       "      <td>75</td>\n",
       "      <td>golf</td>\n",
       "      <td>150000</td>\n",
       "      <td>petrol</td>\n",
       "      <td>volkswagen</td>\n",
       "      <td>no</td>\n",
       "    </tr>\n",
       "    <tr>\n",
       "      <th>4</th>\n",
       "      <td>3600</td>\n",
       "      <td>small</td>\n",
       "      <td>2008</td>\n",
       "      <td>manual</td>\n",
       "      <td>69</td>\n",
       "      <td>fabia</td>\n",
       "      <td>90000</td>\n",
       "      <td>gasoline</td>\n",
       "      <td>skoda</td>\n",
       "      <td>no</td>\n",
       "    </tr>\n",
       "    <tr>\n",
       "      <th>5</th>\n",
       "      <td>650</td>\n",
       "      <td>sedan</td>\n",
       "      <td>1995</td>\n",
       "      <td>manual</td>\n",
       "      <td>102</td>\n",
       "      <td>3er</td>\n",
       "      <td>150000</td>\n",
       "      <td>petrol</td>\n",
       "      <td>bmw</td>\n",
       "      <td>yes</td>\n",
       "    </tr>\n",
       "  </tbody>\n",
       "</table>\n",
       "</div>"
      ],
      "text/plain": [
       "   Price VehicleType  RegistrationYear Gearbox  Power  Model  Kilometer  \\\n",
       "1  18300       coupe              2011  manual    190    NaN     125000   \n",
       "2   9800         suv              2004    auto    163  grand     125000   \n",
       "3   1500       small              2001  manual     75   golf     150000   \n",
       "4   3600       small              2008  manual     69  fabia      90000   \n",
       "5    650       sedan              1995  manual    102    3er     150000   \n",
       "\n",
       "   FuelType       Brand NotRepaired  \n",
       "1  gasoline        audi         yes  \n",
       "2  gasoline        jeep         NaN  \n",
       "3    petrol  volkswagen          no  \n",
       "4  gasoline       skoda          no  \n",
       "5    petrol         bmw         yes  "
      ]
     },
     "metadata": {},
     "output_type": "display_data"
    }
   ],
   "source": [
    "data = data.drop('RegistrationMonth', axis=1)\n",
    "\n",
    "display(data.head())"
   ]
  },
  {
   "cell_type": "markdown",
   "metadata": {},
   "source": [
    "## 1.2 Предобработка пропусков "
   ]
  },
  {
   "cell_type": "code",
   "execution_count": 28,
   "metadata": {},
   "outputs": [
    {
     "name": "stdout",
     "output_type": "stream",
     "text": [
      "Количество пропусков в выборке: 72850\n",
      "Доля пропусков в выборке: 0.2389112076740182\n"
     ]
    }
   ],
   "source": [
    "nan_count = len(data) - len(data.dropna())\n",
    "\n",
    "print(f'Количество пропусков в выборке: {nan_count}')\n",
    "print(f'Доля пропусков в выборке: {nan_count / len(data)}')"
   ]
  },
  {
   "cell_type": "markdown",
   "metadata": {},
   "source": [
    "Как видим, в целом пропусков после предобработки 23% и если их просто так отсечь мы можем потерять много важных инсайтов, следовательно такое решение в этой ситуации не очень подходит"
   ]
  },
  {
   "cell_type": "code",
   "execution_count": 30,
   "metadata": {},
   "outputs": [
    {
     "name": "stdout",
     "output_type": "stream",
     "text": [
      "Столбец VehicleType\n",
      "sedan          82581\n",
      "small          71186\n",
      "wagon          59957\n",
      "bus            26399\n",
      "convertible    18376\n",
      "coupe          13947\n",
      "suv            10503\n",
      "other           2496\n",
      "Name: VehicleType, dtype: int64\n",
      "\n",
      "Столбец Gearbox\n",
      "manual    240956\n",
      "auto       57872\n",
      "Name: Gearbox, dtype: int64\n",
      "\n",
      "Столбец Model\n",
      "golf                  26277\n",
      "other                 19489\n",
      "3er                   17918\n",
      "polo                  11291\n",
      "corsa                 10646\n",
      "                      ...  \n",
      "samara                    5\n",
      "i3                        5\n",
      "rangerover                3\n",
      "range_rover_evoque        2\n",
      "serie_2                   1\n",
      "Name: Model, Length: 248, dtype: int64\n",
      "\n",
      "Столбец FuelType\n",
      "petrol      190222\n",
      "gasoline     89785\n",
      "lpg           4562\n",
      "cng            499\n",
      "hybrid         205\n",
      "other           85\n",
      "electric        75\n",
      "Name: FuelType, dtype: int64\n",
      "\n",
      "Столбец NotRepaired\n",
      "no     226797\n",
      "yes     30631\n",
      "Name: NotRepaired, dtype: int64\n",
      "\n"
     ]
    }
   ],
   "source": [
    "col_list = ['VehicleType', 'Gearbox', 'Model', 'FuelType', 'NotRepaired']\n",
    "\n",
    "for i in col_list:\n",
    "    print(f'Столбец {i}')\n",
    "    print(data[i].value_counts())\n",
    "    print()"
   ]
  },
  {
   "cell_type": "markdown",
   "metadata": {},
   "source": [
    "Большинство категориальных столбцов не получится заполнить самым многочисленным значением из-за высокой вариативности категорий - высок шанс просто не угадать и тем самым ухудшить качество модели. Однако в столбцах NotRepaired и Gearbox две похожие ситуации: \n",
    "\n",
    "1) В них всего два варианта ответа\n",
    "\n",
    "2) Один из вариантов количественно значительно превосходит другой\n",
    "\n",
    "В столбце FuelType вариантов ответа больше, но при этом Petrol и Gasoline значительно превосходят остальные варианты\n",
    "\n",
    "Исходя из этих выводов предлагаю для начала заполнить пропуски в них используя самую многочисленную категорию, а потом уже решать по поводу остальных столбцов"
   ]
  },
  {
   "cell_type": "code",
   "execution_count": 31,
   "metadata": {},
   "outputs": [
    {
     "name": "stdout",
     "output_type": "stream",
     "text": [
      "Пропуски после обработки: 28987\n"
     ]
    }
   ],
   "source": [
    "data['NotRepaired'] = data['NotRepaired'].fillna('no')\n",
    "data['Gearbox'] = data['Gearbox'].fillna('manual')\n",
    "data['FuelType'] = data['FuelType'].fillna('petrol')\n",
    "\n",
    "print('Пропуски после обработки:', len(data) - len(data.dropna()))"
   ]
  },
  {
   "cell_type": "markdown",
   "metadata": {},
   "source": [
    "Суммарно пропусков в VehicleType и Model всего 29к против заоблачного количества пропусков которое было раньше. Так как шанс ошибиться при заполнении этих столбцов значительно выше, я, с болью в сердце, принимаю решение об удалении этих данных"
   ]
  },
  {
   "cell_type": "code",
   "execution_count": 32,
   "metadata": {},
   "outputs": [
    {
     "name": "stdout",
     "output_type": "stream",
     "text": [
      "Пропуски после обработки: 0\n",
      "Количество объектов после обработки: 275938\n"
     ]
    }
   ],
   "source": [
    "data = data.dropna()\n",
    "\n",
    "print('Пропуски после обработки:', len(data) - len(data.dropna()))\n",
    "print('Количество объектов после обработки:', data.shape[0])"
   ]
  },
  {
   "cell_type": "markdown",
   "metadata": {},
   "source": [
    "## 1.3 Финальная предобработка "
   ]
  },
  {
   "cell_type": "markdown",
   "metadata": {},
   "source": [
    "Нам остаётся только преобразовать категориальные фичи и на всякий случай масштабировать численные признаки, после чего разделить выборки на train, test и valid и перейти к моделям.\n",
    "\n",
    "Единственное что меня смущает на этом этапе: преобразование категориальных фич, ведь у нас огромная куча разных брендов и моделей автомобилей. Из-за этого таблица может увеличиться очень значительно. Поэтому пожалуй я применю OrdinalEncoder, я понимаю что это может значительно уменьшить точность предсказаний, но в условии задачи сказано что скорость тоже важна - а увеличение количества фич в ~30 раз добра вряд ли принесёт"
   ]
  },
  {
   "cell_type": "code",
   "execution_count": 33,
   "metadata": {},
   "outputs": [
    {
     "data": {
      "text/html": [
       "<div>\n",
       "<style scoped>\n",
       "    .dataframe tbody tr th:only-of-type {\n",
       "        vertical-align: middle;\n",
       "    }\n",
       "\n",
       "    .dataframe tbody tr th {\n",
       "        vertical-align: top;\n",
       "    }\n",
       "\n",
       "    .dataframe thead th {\n",
       "        text-align: right;\n",
       "    }\n",
       "</style>\n",
       "<table border=\"1\" class=\"dataframe\">\n",
       "  <thead>\n",
       "    <tr style=\"text-align: right;\">\n",
       "      <th></th>\n",
       "      <th>Price</th>\n",
       "      <th>VehicleType</th>\n",
       "      <th>RegistrationYear</th>\n",
       "      <th>Gearbox</th>\n",
       "      <th>Power</th>\n",
       "      <th>Model</th>\n",
       "      <th>Kilometer</th>\n",
       "      <th>FuelType</th>\n",
       "      <th>Brand</th>\n",
       "      <th>NotRepaired</th>\n",
       "    </tr>\n",
       "  </thead>\n",
       "  <tbody>\n",
       "    <tr>\n",
       "      <th>2</th>\n",
       "      <td>9800</td>\n",
       "      <td>6.0</td>\n",
       "      <td>2004</td>\n",
       "      <td>0</td>\n",
       "      <td>163</td>\n",
       "      <td>117.0</td>\n",
       "      <td>125000</td>\n",
       "      <td>2.0</td>\n",
       "      <td>14.0</td>\n",
       "      <td>0</td>\n",
       "    </tr>\n",
       "    <tr>\n",
       "      <th>3</th>\n",
       "      <td>1500</td>\n",
       "      <td>5.0</td>\n",
       "      <td>2001</td>\n",
       "      <td>1</td>\n",
       "      <td>75</td>\n",
       "      <td>116.0</td>\n",
       "      <td>150000</td>\n",
       "      <td>6.0</td>\n",
       "      <td>37.0</td>\n",
       "      <td>0</td>\n",
       "    </tr>\n",
       "    <tr>\n",
       "      <th>4</th>\n",
       "      <td>3600</td>\n",
       "      <td>5.0</td>\n",
       "      <td>2008</td>\n",
       "      <td>1</td>\n",
       "      <td>69</td>\n",
       "      <td>101.0</td>\n",
       "      <td>90000</td>\n",
       "      <td>2.0</td>\n",
       "      <td>31.0</td>\n",
       "      <td>0</td>\n",
       "    </tr>\n",
       "    <tr>\n",
       "      <th>5</th>\n",
       "      <td>650</td>\n",
       "      <td>4.0</td>\n",
       "      <td>1995</td>\n",
       "      <td>1</td>\n",
       "      <td>102</td>\n",
       "      <td>11.0</td>\n",
       "      <td>150000</td>\n",
       "      <td>6.0</td>\n",
       "      <td>2.0</td>\n",
       "      <td>1</td>\n",
       "    </tr>\n",
       "    <tr>\n",
       "      <th>6</th>\n",
       "      <td>2200</td>\n",
       "      <td>1.0</td>\n",
       "      <td>2004</td>\n",
       "      <td>1</td>\n",
       "      <td>109</td>\n",
       "      <td>8.0</td>\n",
       "      <td>150000</td>\n",
       "      <td>6.0</td>\n",
       "      <td>25.0</td>\n",
       "      <td>0</td>\n",
       "    </tr>\n",
       "    <tr>\n",
       "      <th>...</th>\n",
       "      <td>...</td>\n",
       "      <td>...</td>\n",
       "      <td>...</td>\n",
       "      <td>...</td>\n",
       "      <td>...</td>\n",
       "      <td>...</td>\n",
       "      <td>...</td>\n",
       "      <td>...</td>\n",
       "      <td>...</td>\n",
       "      <td>...</td>\n",
       "    </tr>\n",
       "    <tr>\n",
       "      <th>354360</th>\n",
       "      <td>3999</td>\n",
       "      <td>7.0</td>\n",
       "      <td>2005</td>\n",
       "      <td>1</td>\n",
       "      <td>3</td>\n",
       "      <td>11.0</td>\n",
       "      <td>150000</td>\n",
       "      <td>2.0</td>\n",
       "      <td>2.0</td>\n",
       "      <td>0</td>\n",
       "    </tr>\n",
       "    <tr>\n",
       "      <th>354362</th>\n",
       "      <td>3200</td>\n",
       "      <td>4.0</td>\n",
       "      <td>2004</td>\n",
       "      <td>1</td>\n",
       "      <td>225</td>\n",
       "      <td>140.0</td>\n",
       "      <td>150000</td>\n",
       "      <td>6.0</td>\n",
       "      <td>30.0</td>\n",
       "      <td>1</td>\n",
       "    </tr>\n",
       "    <tr>\n",
       "      <th>354366</th>\n",
       "      <td>1199</td>\n",
       "      <td>1.0</td>\n",
       "      <td>2000</td>\n",
       "      <td>0</td>\n",
       "      <td>101</td>\n",
       "      <td>106.0</td>\n",
       "      <td>125000</td>\n",
       "      <td>6.0</td>\n",
       "      <td>32.0</td>\n",
       "      <td>0</td>\n",
       "    </tr>\n",
       "    <tr>\n",
       "      <th>354367</th>\n",
       "      <td>9200</td>\n",
       "      <td>0.0</td>\n",
       "      <td>1996</td>\n",
       "      <td>1</td>\n",
       "      <td>102</td>\n",
       "      <td>222.0</td>\n",
       "      <td>150000</td>\n",
       "      <td>2.0</td>\n",
       "      <td>37.0</td>\n",
       "      <td>0</td>\n",
       "    </tr>\n",
       "    <tr>\n",
       "      <th>354368</th>\n",
       "      <td>3400</td>\n",
       "      <td>7.0</td>\n",
       "      <td>2002</td>\n",
       "      <td>1</td>\n",
       "      <td>100</td>\n",
       "      <td>116.0</td>\n",
       "      <td>150000</td>\n",
       "      <td>2.0</td>\n",
       "      <td>37.0</td>\n",
       "      <td>0</td>\n",
       "    </tr>\n",
       "  </tbody>\n",
       "</table>\n",
       "<p>275938 rows × 10 columns</p>\n",
       "</div>"
      ],
      "text/plain": [
       "        Price  VehicleType  RegistrationYear  Gearbox  Power  Model  \\\n",
       "2        9800          6.0              2004        0    163  117.0   \n",
       "3        1500          5.0              2001        1     75  116.0   \n",
       "4        3600          5.0              2008        1     69  101.0   \n",
       "5         650          4.0              1995        1    102   11.0   \n",
       "6        2200          1.0              2004        1    109    8.0   \n",
       "...       ...          ...               ...      ...    ...    ...   \n",
       "354360   3999          7.0              2005        1      3   11.0   \n",
       "354362   3200          4.0              2004        1    225  140.0   \n",
       "354366   1199          1.0              2000        0    101  106.0   \n",
       "354367   9200          0.0              1996        1    102  222.0   \n",
       "354368   3400          7.0              2002        1    100  116.0   \n",
       "\n",
       "        Kilometer  FuelType  Brand  NotRepaired  \n",
       "2          125000       2.0   14.0            0  \n",
       "3          150000       6.0   37.0            0  \n",
       "4           90000       2.0   31.0            0  \n",
       "5          150000       6.0    2.0            1  \n",
       "6          150000       6.0   25.0            0  \n",
       "...           ...       ...    ...          ...  \n",
       "354360     150000       2.0    2.0            0  \n",
       "354362     150000       6.0   30.0            1  \n",
       "354366     125000       6.0   32.0            0  \n",
       "354367     150000       2.0   37.0            0  \n",
       "354368     150000       2.0   37.0            0  \n",
       "\n",
       "[275938 rows x 10 columns]"
      ]
     },
     "metadata": {},
     "output_type": "display_data"
    }
   ],
   "source": [
    "cat_features = ['VehicleType', 'Model', 'Brand', 'FuelType']\n",
    "binary_cat_features = ['Gearbox', 'NotRepaired']\n",
    "\n",
    "enc = OrdinalEncoder()\n",
    "enc.fit(data[cat_features])\n",
    "data[cat_features] = enc.transform(data[cat_features])\n",
    "\n",
    "data[binary_cat_features] = pd.get_dummies(data[binary_cat_features], drop_first=True)\n",
    "\n",
    "display(data)"
   ]
  },
  {
   "cell_type": "markdown",
   "metadata": {},
   "source": [
    "Далее масштабируем признаки с помощью StandartScaler"
   ]
  },
  {
   "cell_type": "code",
   "execution_count": 34,
   "metadata": {},
   "outputs": [
    {
     "data": {
      "text/html": [
       "<div>\n",
       "<style scoped>\n",
       "    .dataframe tbody tr th:only-of-type {\n",
       "        vertical-align: middle;\n",
       "    }\n",
       "\n",
       "    .dataframe tbody tr th {\n",
       "        vertical-align: top;\n",
       "    }\n",
       "\n",
       "    .dataframe thead th {\n",
       "        text-align: right;\n",
       "    }\n",
       "</style>\n",
       "<table border=\"1\" class=\"dataframe\">\n",
       "  <thead>\n",
       "    <tr style=\"text-align: right;\">\n",
       "      <th></th>\n",
       "      <th>Price</th>\n",
       "      <th>VehicleType</th>\n",
       "      <th>RegistrationYear</th>\n",
       "      <th>Gearbox</th>\n",
       "      <th>Power</th>\n",
       "      <th>Model</th>\n",
       "      <th>Kilometer</th>\n",
       "      <th>FuelType</th>\n",
       "      <th>Brand</th>\n",
       "      <th>NotRepaired</th>\n",
       "    </tr>\n",
       "  </thead>\n",
       "  <tbody>\n",
       "    <tr>\n",
       "      <th>2</th>\n",
       "      <td>9800</td>\n",
       "      <td>6.0</td>\n",
       "      <td>0.205794</td>\n",
       "      <td>0</td>\n",
       "      <td>0.906396</td>\n",
       "      <td>117.0</td>\n",
       "      <td>-0.091170</td>\n",
       "      <td>2.0</td>\n",
       "      <td>14.0</td>\n",
       "      <td>0</td>\n",
       "    </tr>\n",
       "    <tr>\n",
       "      <th>3</th>\n",
       "      <td>1500</td>\n",
       "      <td>5.0</td>\n",
       "      <td>-0.328492</td>\n",
       "      <td>1</td>\n",
       "      <td>-0.908823</td>\n",
       "      <td>116.0</td>\n",
       "      <td>0.592995</td>\n",
       "      <td>6.0</td>\n",
       "      <td>37.0</td>\n",
       "      <td>0</td>\n",
       "    </tr>\n",
       "    <tr>\n",
       "      <th>4</th>\n",
       "      <td>3600</td>\n",
       "      <td>5.0</td>\n",
       "      <td>0.918175</td>\n",
       "      <td>1</td>\n",
       "      <td>-1.032588</td>\n",
       "      <td>101.0</td>\n",
       "      <td>-1.048999</td>\n",
       "      <td>2.0</td>\n",
       "      <td>31.0</td>\n",
       "      <td>0</td>\n",
       "    </tr>\n",
       "    <tr>\n",
       "      <th>5</th>\n",
       "      <td>650</td>\n",
       "      <td>4.0</td>\n",
       "      <td>-1.397063</td>\n",
       "      <td>1</td>\n",
       "      <td>-0.351881</td>\n",
       "      <td>11.0</td>\n",
       "      <td>0.592995</td>\n",
       "      <td>6.0</td>\n",
       "      <td>2.0</td>\n",
       "      <td>1</td>\n",
       "    </tr>\n",
       "    <tr>\n",
       "      <th>6</th>\n",
       "      <td>2200</td>\n",
       "      <td>1.0</td>\n",
       "      <td>0.205794</td>\n",
       "      <td>1</td>\n",
       "      <td>-0.207488</td>\n",
       "      <td>8.0</td>\n",
       "      <td>0.592995</td>\n",
       "      <td>6.0</td>\n",
       "      <td>25.0</td>\n",
       "      <td>0</td>\n",
       "    </tr>\n",
       "  </tbody>\n",
       "</table>\n",
       "</div>"
      ],
      "text/plain": [
       "   Price  VehicleType  RegistrationYear  Gearbox     Power  Model  Kilometer  \\\n",
       "2   9800          6.0          0.205794        0  0.906396  117.0  -0.091170   \n",
       "3   1500          5.0         -0.328492        1 -0.908823  116.0   0.592995   \n",
       "4   3600          5.0          0.918175        1 -1.032588  101.0  -1.048999   \n",
       "5    650          4.0         -1.397063        1 -0.351881   11.0   0.592995   \n",
       "6   2200          1.0          0.205794        1 -0.207488    8.0   0.592995   \n",
       "\n",
       "   FuelType  Brand  NotRepaired  \n",
       "2       2.0   14.0            0  \n",
       "3       6.0   37.0            0  \n",
       "4       2.0   31.0            0  \n",
       "5       6.0    2.0            1  \n",
       "6       6.0   25.0            0  "
      ]
     },
     "metadata": {},
     "output_type": "display_data"
    }
   ],
   "source": [
    "numeric_features = ['RegistrationYear', 'Power', 'Kilometer']\n",
    "\n",
    "scaler = StandardScaler()\n",
    "scaler.fit(data[numeric_features])\n",
    "data[numeric_features] = scaler.transform(data[numeric_features])\n",
    "\n",
    "display(data.head())"
   ]
  },
  {
   "cell_type": "markdown",
   "metadata": {},
   "source": [
    "Готово! Осталось разделить выборки и приступать к обучению моделей"
   ]
  },
  {
   "cell_type": "code",
   "execution_count": 35,
   "metadata": {},
   "outputs": [
    {
     "name": "stdout",
     "output_type": "stream",
     "text": [
      "55188\n",
      "220750\n"
     ]
    }
   ],
   "source": [
    "train, test = train_test_split(data, test_size=0.20, random_state=123)\n",
    "\n",
    "train_y = train['Price']\n",
    "train_x = train.drop('Price', axis=1)\n",
    "\n",
    "test_y = test['Price']\n",
    "test_x = test.drop('Price', axis=1)\n",
    "\n",
    "print(test_x.shape[0])\n",
    "print(train.shape[0])"
   ]
  },
  {
   "cell_type": "markdown",
   "metadata": {},
   "source": [
    "Разделили выборки в соотношении 4:1 на train и test, валидационная выборка не понадобится так как будем использовать кросс-валидацию для расчёта метрик. Теперь можно приступить к обучению моделей"
   ]
  },
  {
   "cell_type": "markdown",
   "metadata": {},
   "source": [
    "# 2. Обучение моделей"
   ]
  },
  {
   "cell_type": "markdown",
   "metadata": {},
   "source": [
    "## 2.1 \"Простые\" модели "
   ]
  },
  {
   "cell_type": "code",
   "execution_count": 38,
   "metadata": {},
   "outputs": [
    {
     "name": "stdout",
     "output_type": "stream",
     "text": [
      "Dummy Regressor RMSE: 4576.954311569675\n"
     ]
    }
   ],
   "source": [
    "kfolds = KFold(n_splits=4, shuffle=True, random_state=123)\n",
    "\n",
    "def cv_rmse(model):\n",
    "    rmse = np.sqrt(-cross_val_score(model, train_x, train_y, scoring=\"neg_mean_squared_error\", cv=kfolds))\n",
    "    return (rmse)\n",
    "\n",
    "dummy_regr = DummyRegressor(strategy='mean')\n",
    "\n",
    "print(f'Dummy Regressor RMSE: {cv_rmse(dummy_regr).mean()}')"
   ]
  },
  {
   "cell_type": "markdown",
   "metadata": {},
   "source": [
    "### Линейная регрессия "
   ]
  },
  {
   "cell_type": "code",
   "execution_count": 39,
   "metadata": {},
   "outputs": [
    {
     "name": "stdout",
     "output_type": "stream",
     "text": [
      "Linear Regression RMSE: 2696.904412464355\n",
      "Wall time: 780 ms\n"
     ]
    }
   ],
   "source": [
    "%%time\n",
    "\n",
    "lin_reg = LinearRegression()\n",
    "\n",
    "print(f'Linear Regression RMSE: {cv_rmse(lin_reg).mean()}')"
   ]
  },
  {
   "cell_type": "markdown",
   "metadata": {},
   "source": [
    "### KNeighbors Regressor "
   ]
  },
  {
   "cell_type": "code",
   "execution_count": 42,
   "metadata": {},
   "outputs": [
    {
     "name": "stdout",
     "output_type": "stream",
     "text": [
      "KNeighbors RMSE: 1735.1569438900221\n",
      "Wall time: 26.1 s\n"
     ]
    }
   ],
   "source": [
    "%%time\n",
    "\n",
    "knn = KNeighborsRegressor(n_neighbors=6)\n",
    "\n",
    "print(f'KNeighbors RMSE: {cv_rmse(knn).mean()}')"
   ]
  },
  {
   "cell_type": "markdown",
   "metadata": {},
   "source": [
    "### Дерево "
   ]
  },
  {
   "cell_type": "code",
   "execution_count": 41,
   "metadata": {},
   "outputs": [
    {
     "name": "stdout",
     "output_type": "stream",
     "text": [
      "Tree RMSE: 2204.9796139065747\n",
      "Wall time: 1.87 s\n"
     ]
    }
   ],
   "source": [
    "%%time\n",
    "\n",
    "super_tree = DecisionTreeRegressor(random_state=123, max_depth=6)\n",
    "\n",
    "print(f'Tree RMSE: {cv_rmse(super_tree).mean()}')"
   ]
  },
  {
   "cell_type": "markdown",
   "metadata": {},
   "source": [
    "## 2.2 Ансамблевые модели "
   ]
  },
  {
   "cell_type": "markdown",
   "metadata": {},
   "source": [
    "### Random Forest "
   ]
  },
  {
   "cell_type": "code",
   "execution_count": 43,
   "metadata": {},
   "outputs": [
    {
     "name": "stdout",
     "output_type": "stream",
     "text": [
      "Forest RMSE: 3029.933342040457\n",
      "Wall time: 57.5 s\n"
     ]
    }
   ],
   "source": [
    "%%time\n",
    "\n",
    "from sklearn.ensemble import RandomForestRegressor\n",
    "\n",
    "forest_reg = RandomForestRegressor(random_state=123, max_depth=2, n_estimators=200)\n",
    "\n",
    "print(f'Forest RMSE: {cv_rmse(forest_reg).mean()}')"
   ]
  },
  {
   "cell_type": "markdown",
   "metadata": {},
   "source": [
    "### LGBM "
   ]
  },
  {
   "cell_type": "code",
   "execution_count": 45,
   "metadata": {},
   "outputs": [
    {
     "name": "stdout",
     "output_type": "stream",
     "text": [
      "LGBT RMSE: 1564.2695957283397\n",
      "Wall time: 13.6 s\n"
     ]
    }
   ],
   "source": [
    "%%time\n",
    "\n",
    "import lightgbm as lgb\n",
    "\n",
    "lgbm = lgb.LGBMRegressor(n_estimators=500)\n",
    "\n",
    "print(f'LGBT RMSE: {cv_rmse(lgbm).mean()}')"
   ]
  },
  {
   "cell_type": "markdown",
   "metadata": {},
   "source": [
    "Лучшее значение метрики показал алгоритм LGBM\n",
    "\n",
    "Лучшую скорость обучения показала линейная регрессия\n",
    "\n",
    "Алгоритм LGBM показал самую лучшую скорость и самую лучшую метрику, определённо можно брать его"
   ]
  },
  {
   "cell_type": "markdown",
   "metadata": {},
   "source": [
    "# 3. Анализ моделей"
   ]
  },
  {
   "cell_type": "code",
   "execution_count": 46,
   "metadata": {},
   "outputs": [
    {
     "name": "stdout",
     "output_type": "stream",
     "text": [
      "Обучение LGBM завершено\n",
      "Wall time: 3.93 s\n"
     ]
    }
   ],
   "source": [
    "%%time\n",
    "\n",
    "lgbm.fit(train_x, train_y)\n",
    "print('Обучение LGBM завершено')"
   ]
  },
  {
   "cell_type": "code",
   "execution_count": 47,
   "metadata": {},
   "outputs": [
    {
     "name": "stdout",
     "output_type": "stream",
     "text": [
      "RMSE на тестовой выборке ЛГБМ: 1550.687206206832\n",
      "Wall time: 665 ms\n"
     ]
    }
   ],
   "source": [
    "%%time\n",
    "\n",
    "answers = lgbm.predict(test_x)\n",
    "print('RMSE на тестовой выборке ЛГБМ:', mean_squared_error(answers, test_y) ** 0.5)"
   ]
  },
  {
   "cell_type": "markdown",
   "metadata": {},
   "source": [
    "На обучение ЛГБМ ушло 4 секунды\n",
    "\n",
    "Предсказания модель выдаёт за 665 мс\n",
    "\n",
    "RMSE приблизительно 1550"
   ]
  },
  {
   "cell_type": "code",
   "execution_count": 48,
   "metadata": {},
   "outputs": [
    {
     "name": "stdout",
     "output_type": "stream",
     "text": [
      "Обучение KNN завершено\n",
      "Wall time: 3.55 s\n"
     ]
    }
   ],
   "source": [
    "%%time\n",
    "\n",
    "knn.fit(train_x, train_y)\n",
    "print('Обучение KNN завершено')"
   ]
  },
  {
   "cell_type": "code",
   "execution_count": 49,
   "metadata": {},
   "outputs": [
    {
     "name": "stdout",
     "output_type": "stream",
     "text": [
      "RMSE на тестовой выборке КНН: 1705.6233786778807\n",
      "Wall time: 9.64 s\n"
     ]
    }
   ],
   "source": [
    "%%time\n",
    "\n",
    "answers = knn.predict(test_x)\n",
    "print('RMSE на тестовой выборке КНН:', mean_squared_error(answers, test_y) ** 0.5)"
   ]
  },
  {
   "cell_type": "markdown",
   "metadata": {},
   "source": [
    "На обучение KNN ушло 4 секунды\n",
    "\n",
    "Предсказывает за 9 секунд\n",
    "\n",
    "RMSE равна приблизительно 1705"
   ]
  },
  {
   "cell_type": "markdown",
   "metadata": {},
   "source": [
    "## Общий вывод"
   ]
  },
  {
   "cell_type": "markdown",
   "metadata": {},
   "source": [
    "Именно на этих данных и с этой предобработкой алгоритм KNN работает очень быстро и при этом не сильно отстаёт от LGBM. При том что LGBM учится довольно долго, но предсказывает быстрее в три раза(представляю что в проде эти 9 секунд вычислений могут быть очень заметны для пользователя).\n",
    "\n",
    "Так что ответ \"Что в этой ситуации лучше\" зависит от того что нам важнее из всех трёх метрик: по времени обучения однозначно лучше KNN. По времени предсказания и качеству (хотя по качеству не очень намного) лучше LGBM"
   ]
  },
 ],
 "metadata": {
  "kernelspec": {
   "display_name": "Python 3",
   "language": "python",
   "name": "python3"
  },
  "language_info": {
   "codemirror_mode": {
    "name": "ipython",
    "version": 3
   },
   "file_extension": ".py",
   "mimetype": "text/x-python",
   "name": "python",
   "nbconvert_exporter": "python",
   "pygments_lexer": "ipython3",
   "version": "3.8.3"
  }
 },
 "nbformat": 4,
 "nbformat_minor": 2
}
